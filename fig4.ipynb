{
 "cells": [
  {
   "cell_type": "code",
   "execution_count": 2,
   "id": "97791054-1d58-43e1-93a3-6d1aca8a337e",
   "metadata": {
    "tags": []
   },
   "outputs": [],
   "source": [
    "import pandas as pd\n",
    "import os\n",
    "import numpy as np\n",
    "import sys\n",
    "import timeit\n",
    "if not sys.warnoptions:\n",
    "    import warnings\n",
    "    warnings.simplefilter(\"ignore\")\n"
   ]
  },
  {
   "cell_type": "code",
   "execution_count": 3,
   "id": "b31b546e-5673-468c-8572-4cd808a574b4",
   "metadata": {
    "tags": []
   },
   "outputs": [],
   "source": [
    "import matplotlib.pyplot as plt\n",
    "import seaborn as sns\n",
    "from matplotlib import rcParams \n",
    "rcParams['pdf.fonttype'] = 42 # True font\n",
    "#rcParams['font.family'] =  'Arial' # font Arial\n",
    "rcParams['font.size'] =  8  \n",
    "rcParams['grid.linewidth'] =  0.5 \n",
    "rcParams['lines.color'] = 'b' \n",
    "rcParams['lines.linewidth'] = 1 \n",
    "rcParams['lines.markersize'] = 3\n",
    "rcParams['lines.markeredgewidth'] = 0 # set Marker with no edgelines\n",
    "rcParams['axes.linewidth'] = 0.5\n",
    "rcParams['axes.titlesize'] = 12\n",
    "rcParams['axes.labelsize'] = 8\n",
    "rcParams['xtick.labelsize'] = 8\n",
    "rcParams['ytick.labelsize'] = 8\n",
    "rcParams['legend.fontsize'] = 8\n",
    "rcParams['legend.title_fontsize'] = 8"
   ]
  },
  {
   "cell_type": "code",
   "execution_count": 4,
   "id": "92518bf8-3c21-4f60-bdfb-efb043ead60c",
   "metadata": {
    "tags": []
   },
   "outputs": [],
   "source": [
    "def split_get_n(data,character,n):\n",
    "    result = data.str.split(f'{character}',expand=True).iloc[:,n]\n",
    "    return result"
   ]
  },
  {
   "cell_type": "code",
   "execution_count": 9,
   "id": "787c354b-1bce-44d4-ae17-5113d8bb3568",
   "metadata": {
    "tags": []
   },
   "outputs": [],
   "source": [
    "path = '/data1/HOMO_PANGENOME/DYY/data/fusion_gene/1/'\n",
    "files = os.listdir(path)\n",
    "files = [x for x in files if x[-3:]=='txt']\n",
    "convert = pd.read_csv('/data1/HOMO_PANGENOME/DYY/data/mstrg_ensg_transcript.csv',sep='\\t')\n",
    "group = pd.read_csv('/data1/HOMO_PANGENOME/DYY/data/group.csv',sep='\\t')\n",
    "# fusion_dict = {}\n",
    "tumor_fusion_data = pd.read_csv('/data1/HOMO_PANGENOME/DYY/data/TumorFusion/nar-02671-data-e-2017-File007.csv')\n",
    "# for f in files:\n",
    "#     data = pd.read_csv(path+f,sep=' ',header=None)\n",
    "#     fusion_dict[f[:-16]] = data"
   ]
  },
  {
   "cell_type": "markdown",
   "id": "d1206030-4e79-41df-9f81-2129d104f908",
   "metadata": {
    "jp-MarkdownHeadingCollapsed": true,
    "tags": []
   },
   "source": [
    "## some trying"
   ]
  },
  {
   "cell_type": "code",
   "execution_count": 290,
   "id": "afa5c3fe-97f2-4404-8014-e16484b7c2b8",
   "metadata": {},
   "outputs": [
    {
     "data": {
      "text/html": [
       "<div>\n",
       "<style scoped>\n",
       "    .dataframe tbody tr th:only-of-type {\n",
       "        vertical-align: middle;\n",
       "    }\n",
       "\n",
       "    .dataframe tbody tr th {\n",
       "        vertical-align: top;\n",
       "    }\n",
       "\n",
       "    .dataframe thead th {\n",
       "        text-align: right;\n",
       "    }\n",
       "</style>\n",
       "<table border=\"1\" class=\"dataframe\">\n",
       "  <thead>\n",
       "    <tr style=\"text-align: right;\">\n",
       "      <th></th>\n",
       "      <th>name</th>\n",
       "      <th>Sample ID</th>\n",
       "      <th>Type</th>\n",
       "      <th>Sample</th>\n",
       "      <th>Group</th>\n",
       "    </tr>\n",
       "  </thead>\n",
       "  <tbody>\n",
       "    <tr>\n",
       "      <th>247</th>\n",
       "      <td>A1901742PD1TT2</td>\n",
       "      <td>BLA18</td>\n",
       "      <td>Tumor</td>\n",
       "      <td>BLA</td>\n",
       "      <td>Tumor-BLA</td>\n",
       "    </tr>\n",
       "  </tbody>\n",
       "</table>\n",
       "</div>"
      ],
      "text/plain": [
       "               name Sample ID   Type Sample      Group\n",
       "247  A1901742PD1TT2     BLA18  Tumor    BLA  Tumor-BLA"
      ]
     },
     "execution_count": 290,
     "metadata": {},
     "output_type": "execute_result"
    }
   ],
   "source": [
    "group[group.name=='A1901742PD1TT2']"
   ]
  },
  {
   "cell_type": "markdown",
   "id": "133e6f20-3d3f-4d7f-9b46-8ef85b3d71b9",
   "metadata": {},
   "source": [
    "同一个组织tumor中的fusion gene过滤掉normal中的 （filter fusions in normal samples"
   ]
  },
  {
   "cell_type": "code",
   "execution_count": 174,
   "id": "17437429-5462-4969-8fe1-01807e33921b",
   "metadata": {},
   "outputs": [],
   "source": [
    "from operator import itemgetter"
   ]
  },
  {
   "cell_type": "code",
   "execution_count": 192,
   "id": "d0fb10d7-9b6d-4714-80a4-f09a9da7cdf4",
   "metadata": {
    "tags": []
   },
   "outputs": [
    {
     "name": "stdout",
     "output_type": "stream",
     "text": [
      "there is no fusion gene in A1603229D09TN1\n",
      "STO9 error!\n",
      "there is no fusion gene in A1702266J10TN1\n",
      "CER10 error!\n",
      "there is no fusion gene in A1901952D19TN2\n",
      "LIV13 error!\n",
      "there is no fusion gene in A1902009D19TT1\n",
      "LIV15 error!\n",
      "there is no fusion gene in A2000949D19TN1\n",
      "LIV20 error!\n"
     ]
    }
   ],
   "source": [
    "fusion_gene_dict = {}\n",
    "drop_df = pd.DataFrame()\n",
    "for tissue in group.Sample.drop_duplicates():\n",
    "    samples = group.loc[group.Sample==tissue][['name','Sample ID']].sort_values('name')\n",
    "    fusion_gene_df = pd.DataFrame()\n",
    "    for key,value in samples.groupby('Sample ID'):\n",
    "        normal_sample = value.name.tolist()[0]\n",
    "        tumor_sample = value.name.tolist()[1]\n",
    "        normal = True\n",
    "        tumor = True\n",
    "        try:\n",
    "            fusion_normal = fusion_dict[normal_sample]\n",
    "        except:\n",
    "            normal = False\n",
    "            print(f'there is no fusion gene in {normal_sample}')\n",
    "        try:\n",
    "            fusion_tumor = fusion_dict[tumor_sample]\n",
    "        except:\n",
    "            tumor = False\n",
    "            print(f'there is no fusion gene in {tumor_sample}')\n",
    "        if normal&tumor:\n",
    "            fusion_gene = pd.DataFrame(set(fusion_tumor[1])-set(fusion_normal[1])) ##tumor中有但是normal中没有的fusion gene\n",
    "            drop_df.loc[key,['tum','nor','Diff']] = [len(fusion_tumor), len(fusion_normal), len(fusion_gene)]\n",
    "        else:\n",
    "            print(f'{key} error!')\n",
    "        fusion_gene_df = pd.concat([fusion_gene_df,fusion_gene])\n",
    "    fusion_gene_dict[tissue] = fusion_gene_df"
   ]
  },
  {
   "cell_type": "code",
   "execution_count": 376,
   "id": "d26546bb-4fdb-425f-8228-f8bc54037cda",
   "metadata": {},
   "outputs": [],
   "source": [
    "def xlsx_to_csv_pd():\n",
    "    data_xls = pd.read_excel('/data1/HOMO_PANGENOME/DYY/jaffal/group.xlsx', index_col=0)\n",
    "    data_xls.to_csv('/data1/HOMO_PANGENOME/DYY/jaffal/group.csv', encoding='utf-8')\n",
    "\n",
    "\n",
    "if __name__ == '__main__':\n",
    "    xlsx_to_csv_pd()"
   ]
  },
  {
   "cell_type": "markdown",
   "id": "c240c228-711a-4106-8eb9-6287e43cd51c",
   "metadata": {
    "tags": []
   },
   "source": [
    "## read data"
   ]
  },
  {
   "cell_type": "code",
   "execution_count": 5,
   "id": "e7d42a48-d45a-45e2-aa46-9ccfa65965a6",
   "metadata": {
    "tags": []
   },
   "outputs": [],
   "source": [
    "new_group = pd.read_csv('/data1/HOMO_PANGENOME/DYY/jaffal/group.csv',header=None)\n",
    "convert_dict={'renal':'KID','rectal':'REC','lung':'LUN','liver':'LIV','gastric':'STO','endometrium':'END','colon':'COL','cervical':'CER','breast':'BRE','bladder':'BLA'}\n",
    "new_group = new_group.replace(convert_dict)\n",
    "new_group = new_group.drop(new_group.loc[new_group[0].isin(['A1803952PD1TT3','A1923614NC','A1901741PD1TN3'])].index)"
   ]
  },
  {
   "cell_type": "markdown",
   "id": "c4beba07-7ac1-4943-a6f1-302e6e420434",
   "metadata": {},
   "source": [
    "check whether paired"
   ]
  },
  {
   "cell_type": "code",
   "execution_count": 6,
   "id": "06d1d460-3357-4ed1-b4c1-73eae070051d",
   "metadata": {
    "tags": []
   },
   "outputs": [],
   "source": [
    "for t in new_group[2].drop_duplicates():\n",
    "    test_normal = new_group[(new_group[1]=='Normal') & (new_group[2]==t)]\n",
    "    test_tumor = new_group[(new_group[1]=='Tumor') & (new_group[2]==t)]\n",
    "    if len(test_normal)!=len(test_tumor):\n",
    "        print(f'error in pair in {t}')"
   ]
  },
  {
   "cell_type": "code",
   "execution_count": 7,
   "id": "25b599df-c187-49ac-b4a1-4d2c92c84605",
   "metadata": {
    "tags": []
   },
   "outputs": [],
   "source": [
    "new_group_normal = new_group.loc[new_group[1]=='Normal']\n",
    "result_path = '/data1/HOMO_PANGENOME/DYY/jaffal/jaffa.result/'"
   ]
  },
  {
   "cell_type": "markdown",
   "id": "79d46e4d-85a8-4745-aad6-82dcba136085",
   "metadata": {
    "tags": []
   },
   "source": [
    "## raw data (filter potential trans splicing events"
   ]
  },
  {
   "cell_type": "code",
   "execution_count": 8,
   "id": "e7c9e610-07c8-4d27-9c2d-df421f70aa44",
   "metadata": {
    "tags": []
   },
   "outputs": [],
   "source": [
    "raw_fusion_gene = {}\n",
    "for g in new_group[new_group[1]=='Tumor'][0]:\n",
    "    raw = pd.read_csv(result_path+g+'.jaffa_results.csv')\n",
    "    raw = raw[raw['classification']!='PotentialTransSplicing']\n",
    "    raw_fusion_gene[g] = raw"
   ]
  },
  {
   "cell_type": "markdown",
   "id": "804eb67d-b4fa-470a-881a-c8e73c414177",
   "metadata": {},
   "source": [
    "all raw fusion gene (after drop duplicates)"
   ]
  },
  {
   "cell_type": "code",
   "execution_count": 9,
   "id": "af79a113-88a4-4a9a-b858-b15a5c064afc",
   "metadata": {
    "tags": []
   },
   "outputs": [],
   "source": [
    "test = pd.concat(raw_fusion_gene.values())"
   ]
  },
  {
   "cell_type": "code",
   "execution_count": 10,
   "id": "0202b1b7-4300-4831-8a9d-84ec8a86a5ed",
   "metadata": {
    "collapsed": true,
    "jupyter": {
     "outputs_hidden": true
    },
    "tags": []
   },
   "outputs": [
    {
     "ename": "NameError",
     "evalue": "name 'drop_list' is not defined",
     "output_type": "error",
     "traceback": [
      "\u001b[0;31m---------------------------------------------------------------------------\u001b[0m",
      "\u001b[0;31mNameError\u001b[0m                                 Traceback (most recent call last)",
      "\u001b[0;32m/tmp/ipykernel_576532/1516574398.py\u001b[0m in \u001b[0;36m<module>\u001b[0;34m\u001b[0m\n\u001b[0;32m----> 1\u001b[0;31m \u001b[0mtest\u001b[0m \u001b[0;34m=\u001b[0m \u001b[0mtest\u001b[0m\u001b[0;34m[\u001b[0m\u001b[0;34m~\u001b[0m\u001b[0mtest\u001b[0m\u001b[0;34m[\u001b[0m\u001b[0;34m'sample'\u001b[0m\u001b[0;34m]\u001b[0m\u001b[0;34m.\u001b[0m\u001b[0misin\u001b[0m\u001b[0;34m(\u001b[0m\u001b[0mdrop_list\u001b[0m\u001b[0;34m)\u001b[0m\u001b[0;34m]\u001b[0m\u001b[0;34m\u001b[0m\u001b[0;34m\u001b[0m\u001b[0m\n\u001b[0m",
      "\u001b[0;31mNameError\u001b[0m: name 'drop_list' is not defined"
     ]
    }
   ],
   "source": [
    "test = test[~test['sample'].isin(drop_list)]"
   ]
  },
  {
   "cell_type": "code",
   "execution_count": 108,
   "id": "fb2c1718-7256-4afb-8cad-ffa5953304a3",
   "metadata": {
    "tags": []
   },
   "outputs": [
    {
     "data": {
      "text/plain": [
       "38"
      ]
     },
     "execution_count": 108,
     "metadata": {},
     "output_type": "execute_result"
    }
   ],
   "source": [
    "len(drop_list)"
   ]
  },
  {
   "cell_type": "code",
   "execution_count": 109,
   "id": "8cbd616c-0270-4cc6-803e-1c08d8276b30",
   "metadata": {
    "tags": []
   },
   "outputs": [
    {
     "data": {
      "text/plain": [
       "4"
      ]
     },
     "execution_count": 109,
     "metadata": {},
     "output_type": "execute_result"
    }
   ],
   "source": [
    "samples_count"
   ]
  },
  {
   "cell_type": "code",
   "execution_count": 107,
   "id": "c4acb678-b2ae-4af9-b35f-6e7c60bc9aa8",
   "metadata": {
    "tags": []
   },
   "outputs": [
    {
     "data": {
      "text/plain": [
       "155"
      ]
     },
     "execution_count": 107,
     "metadata": {},
     "output_type": "execute_result"
    }
   ],
   "source": [
    "len(test.drop_duplicates('sample'))"
   ]
  },
  {
   "cell_type": "code",
   "execution_count": 106,
   "id": "3228b5d3-8c0b-4aec-bb28-36de906ff16c",
   "metadata": {
    "tags": []
   },
   "outputs": [
    {
     "data": {
      "text/plain": [
       "8633"
      ]
     },
     "execution_count": 106,
     "metadata": {},
     "output_type": "execute_result"
    }
   ],
   "source": [
    "len(test.drop_duplicates(['fusion genes','base1','base2']))"
   ]
  },
  {
   "cell_type": "markdown",
   "id": "0c8be980-789a-4e77-8b4b-061891b19ae7",
   "metadata": {
    "tags": []
   },
   "source": [
    "## Only filtered potential trans splicing and germline events"
   ]
  },
  {
   "cell_type": "code",
   "execution_count": 12,
   "id": "74564301-1503-4216-adc8-875575f3c07f",
   "metadata": {
    "tags": []
   },
   "outputs": [],
   "source": [
    "fusion_gene_dict = {}\n",
    "normal_fusion_dict = {}\n",
    "empty_fg = []\n",
    "for t in new_group[2].drop_duplicates():\n",
    "    t_normal = new_group_normal.loc[new_group_normal[2]==t][0]\n",
    "    t_tumor = new_group.loc[(new_group[1]=='Tumor') & (new_group[2]==t)][0]\n",
    "    normal_fusion_gene = pd.DataFrame()\n",
    "    for n in t_normal:\n",
    "        # try:\n",
    "        normal = pd.read_csv(result_path+n+'.jaffa_results.csv')\n",
    "        # except:\n",
    "        #     print(f'No result {n}')\n",
    "        normal_fusion_gene = pd.concat([normal_fusion_gene,normal])\n",
    "    normal_fusion_dict[t] = normal_fusion_gene\n",
    "    normal_set = normal_fusion_gene['fusion genes'].drop_duplicates().tolist()\n",
    "    tissue_tumor = {key: value for key, value in raw_fusion_gene.items() if key in list(t_tumor)}\n",
    "    tissue_tumor = pd.concat(tissue_tumor.values()).reset_index(drop=True)\n",
    "    tissue_tumor = tissue_tumor.loc[~tissue_tumor['fusion genes'].isin(normal_set)]\n",
    "    # tumor_fusion_gene = tumor_fusion_gene.loc[~tumor_fusion_gene['fusion genes'].isin(normal_set)]\n",
    "    # freq_df = tumor_fusion_gene[tumor_fusion_gene.duplicated('fusion genes',keep=False)].groupby('fusion genes').count()[['sample']].reset_index().rename(columns={'sample':'tissue_count'})\n",
    "    # freq_df = tumor_fusion_gene.groupby('fusion genes').count()[['sample']].reset_index().rename(columns={'sample':'tissue_count'})\n",
    "    # tumor_fusion_gene = tumor_fusion_gene.drop_duplicates('fusion genes').merge(freq_df,on='fusion genes',how='outer').fillna(1)\n",
    "    # tumor_fusion_gene = tumor_fusion_gene.drop_duplicates('fusion genes').merge(freq_df,on='fusion genes')\n",
    "    # tumor_fusion_gene.loc[:,'tissue_freq'] = tumor_fusion_gene['tissue_count']/len(t_normal)\n",
    "    tissue_tumor.loc[:,'tissue'] = t\n",
    "    fusion_gene_dict[t] = tissue_tumor"
   ]
  },
  {
   "cell_type": "code",
   "execution_count": 13,
   "id": "293b0236-0b75-4a88-996b-05668d48b4f5",
   "metadata": {
    "tags": []
   },
   "outputs": [
    {
     "data": {
      "text/plain": [
       "7128"
      ]
     },
     "execution_count": 13,
     "metadata": {},
     "output_type": "execute_result"
    }
   ],
   "source": [
    "all_fusion_gene = pd.concat(fusion_gene_dict.values()).reset_index(drop=True)\n",
    "len(all_fusion_gene.drop_duplicates('fusion genes'))"
   ]
  },
  {
   "cell_type": "code",
   "execution_count": 11,
   "id": "333def17-299b-4628-b3b7-f77dc079c3bd",
   "metadata": {
    "tags": []
   },
   "outputs": [],
   "source": [
    "drop_list = group[group['Sample ID'].isin(['LUN18','KID17','KID1','LIV4','CER2','CER7','CER3','STO2','STO4','STO6','STO11','STO12','STO13','END2','END4','COL14','COL8','COL4','COL5'])]['name'].tolist()"
   ]
  },
  {
   "cell_type": "code",
   "execution_count": 14,
   "id": "07007e45-e41d-4448-a6c3-ed218d02a295",
   "metadata": {
    "tags": []
   },
   "outputs": [],
   "source": [
    "drop_list = [x+'.qc' for x in drop_list]"
   ]
  },
  {
   "cell_type": "code",
   "execution_count": 17,
   "id": "b99907dd-8402-43b6-b657-017ac31c67df",
   "metadata": {
    "tags": []
   },
   "outputs": [],
   "source": [
    "protein_coding_fusion_gene = protein_coding_fusion_gene[~protein_coding_fusion_gene['sample'].isin(drop_list)]"
   ]
  },
  {
   "cell_type": "code",
   "execution_count": 88,
   "id": "f4a11bf5-51e0-4eb5-b034-b9cb1a1c0f58",
   "metadata": {
    "collapsed": true,
    "jupyter": {
     "outputs_hidden": true
    },
    "tags": []
   },
   "outputs": [
    {
     "data": {
      "text/html": [
       "<div>\n",
       "<style scoped>\n",
       "    .dataframe tbody tr th:only-of-type {\n",
       "        vertical-align: middle;\n",
       "    }\n",
       "\n",
       "    .dataframe tbody tr th {\n",
       "        vertical-align: top;\n",
       "    }\n",
       "\n",
       "    .dataframe thead th {\n",
       "        text-align: right;\n",
       "    }\n",
       "</style>\n",
       "<table border=\"1\" class=\"dataframe\">\n",
       "  <thead>\n",
       "    <tr style=\"text-align: right;\">\n",
       "      <th></th>\n",
       "      <th>sample</th>\n",
       "      <th>fusion genes</th>\n",
       "      <th>chrom1</th>\n",
       "      <th>base1</th>\n",
       "      <th>strand1</th>\n",
       "      <th>chrom2</th>\n",
       "      <th>base2</th>\n",
       "      <th>strand2</th>\n",
       "      <th>gap (kb)</th>\n",
       "      <th>spanning pairs</th>\n",
       "      <th>spanning reads</th>\n",
       "      <th>inframe</th>\n",
       "      <th>aligns</th>\n",
       "      <th>rearrangement</th>\n",
       "      <th>contig</th>\n",
       "      <th>contig break</th>\n",
       "      <th>classification</th>\n",
       "      <th>known</th>\n",
       "      <th>tissue</th>\n",
       "    </tr>\n",
       "  </thead>\n",
       "  <tbody>\n",
       "    <tr>\n",
       "      <th>26</th>\n",
       "      <td>A2102503rccTT1.qc</td>\n",
       "      <td>ZNF879:RSRC1</td>\n",
       "      <td>chr5</td>\n",
       "      <td>179028127</td>\n",
       "      <td>+</td>\n",
       "      <td>chr3</td>\n",
       "      <td>158460935</td>\n",
       "      <td>+</td>\n",
       "      <td>inf</td>\n",
       "      <td>0</td>\n",
       "      <td>3</td>\n",
       "      <td>True</td>\n",
       "      <td>True</td>\n",
       "      <td>True</td>\n",
       "      <td>83919edd-d048-479c-8af2-ee0480b84e69</td>\n",
       "      <td>2113</td>\n",
       "      <td>HighConfidence</td>\n",
       "      <td>-</td>\n",
       "      <td>KID</td>\n",
       "    </tr>\n",
       "    <tr>\n",
       "      <th>39</th>\n",
       "      <td>A2102504rccTT1.qc</td>\n",
       "      <td>SLC5A1:WFDC2</td>\n",
       "      <td>chr22</td>\n",
       "      <td>32099238</td>\n",
       "      <td>+</td>\n",
       "      <td>chr20</td>\n",
       "      <td>45470451</td>\n",
       "      <td>+</td>\n",
       "      <td>inf</td>\n",
       "      <td>0</td>\n",
       "      <td>2</td>\n",
       "      <td>NaN</td>\n",
       "      <td>False</td>\n",
       "      <td>True</td>\n",
       "      <td>7e15a13d-8916-4658-924c-d518328bf246</td>\n",
       "      <td>526</td>\n",
       "      <td>LowConfidence</td>\n",
       "      <td>-</td>\n",
       "      <td>KID</td>\n",
       "    </tr>\n",
       "    <tr>\n",
       "      <th>40</th>\n",
       "      <td>A2102505rccTT1.qc</td>\n",
       "      <td>FAM3C:CADPS2</td>\n",
       "      <td>chr7</td>\n",
       "      <td>121396162</td>\n",
       "      <td>-</td>\n",
       "      <td>chr7</td>\n",
       "      <td>122663569</td>\n",
       "      <td>-</td>\n",
       "      <td>1267.405</td>\n",
       "      <td>0</td>\n",
       "      <td>2</td>\n",
       "      <td>False</td>\n",
       "      <td>True</td>\n",
       "      <td>True</td>\n",
       "      <td>2af8c545-97f0-49c1-804f-331c989d0347</td>\n",
       "      <td>204</td>\n",
       "      <td>HighConfidence</td>\n",
       "      <td>Yes</td>\n",
       "      <td>KID</td>\n",
       "    </tr>\n",
       "    <tr>\n",
       "      <th>57</th>\n",
       "      <td>A2102506rccTT1.qc</td>\n",
       "      <td>SPRY4:CAST</td>\n",
       "      <td>chr5</td>\n",
       "      <td>142324844</td>\n",
       "      <td>-</td>\n",
       "      <td>chr5</td>\n",
       "      <td>96675539</td>\n",
       "      <td>+</td>\n",
       "      <td>45649.306</td>\n",
       "      <td>0</td>\n",
       "      <td>2</td>\n",
       "      <td>False</td>\n",
       "      <td>True</td>\n",
       "      <td>True</td>\n",
       "      <td>9fe91a3f-7520-4431-a0de-e2b2aafa882f</td>\n",
       "      <td>254</td>\n",
       "      <td>HighConfidence</td>\n",
       "      <td>-</td>\n",
       "      <td>KID</td>\n",
       "    </tr>\n",
       "    <tr>\n",
       "      <th>68</th>\n",
       "      <td>A2102507rccTT1.qc</td>\n",
       "      <td>NLK:AATF</td>\n",
       "      <td>chr17</td>\n",
       "      <td>28172618</td>\n",
       "      <td>+</td>\n",
       "      <td>chr17</td>\n",
       "      <td>37056601</td>\n",
       "      <td>+</td>\n",
       "      <td>8883.987</td>\n",
       "      <td>0</td>\n",
       "      <td>2</td>\n",
       "      <td>False</td>\n",
       "      <td>True</td>\n",
       "      <td>False</td>\n",
       "      <td>30e2fb17-3748-4985-9954-62912291e167</td>\n",
       "      <td>406</td>\n",
       "      <td>HighConfidence</td>\n",
       "      <td>-</td>\n",
       "      <td>KID</td>\n",
       "    </tr>\n",
       "    <tr>\n",
       "      <th>...</th>\n",
       "      <td>...</td>\n",
       "      <td>...</td>\n",
       "      <td>...</td>\n",
       "      <td>...</td>\n",
       "      <td>...</td>\n",
       "      <td>...</td>\n",
       "      <td>...</td>\n",
       "      <td>...</td>\n",
       "      <td>...</td>\n",
       "      <td>...</td>\n",
       "      <td>...</td>\n",
       "      <td>...</td>\n",
       "      <td>...</td>\n",
       "      <td>...</td>\n",
       "      <td>...</td>\n",
       "      <td>...</td>\n",
       "      <td>...</td>\n",
       "      <td>...</td>\n",
       "      <td>...</td>\n",
       "    </tr>\n",
       "    <tr>\n",
       "      <th>4259</th>\n",
       "      <td>A1901254PD1TT3.qc</td>\n",
       "      <td>THRAP3:SFPQ</td>\n",
       "      <td>chr1</td>\n",
       "      <td>36259484</td>\n",
       "      <td>+</td>\n",
       "      <td>chr1</td>\n",
       "      <td>35188090</td>\n",
       "      <td>-</td>\n",
       "      <td>1071.392</td>\n",
       "      <td>0</td>\n",
       "      <td>2</td>\n",
       "      <td>False</td>\n",
       "      <td>True</td>\n",
       "      <td>True</td>\n",
       "      <td>983437ef-eb39-487e-8dea-a85959cf405d</td>\n",
       "      <td>237</td>\n",
       "      <td>HighConfidence</td>\n",
       "      <td>-</td>\n",
       "      <td>BLA</td>\n",
       "    </tr>\n",
       "    <tr>\n",
       "      <th>4278</th>\n",
       "      <td>A1901739PD1TT3.qc</td>\n",
       "      <td>C7orf50:SUN1</td>\n",
       "      <td>chr7</td>\n",
       "      <td>1127257</td>\n",
       "      <td>-</td>\n",
       "      <td>chr7</td>\n",
       "      <td>865952</td>\n",
       "      <td>+</td>\n",
       "      <td>261.306</td>\n",
       "      <td>0</td>\n",
       "      <td>3</td>\n",
       "      <td>False</td>\n",
       "      <td>True</td>\n",
       "      <td>True</td>\n",
       "      <td>107009b7-5886-417c-86dc-f084e444cfa4</td>\n",
       "      <td>254</td>\n",
       "      <td>HighConfidence</td>\n",
       "      <td>-</td>\n",
       "      <td>BLA</td>\n",
       "    </tr>\n",
       "    <tr>\n",
       "      <th>4306</th>\n",
       "      <td>A1901740PD1TT2.qc</td>\n",
       "      <td>CNBP:CSNK1A1</td>\n",
       "      <td>chr3</td>\n",
       "      <td>129183776</td>\n",
       "      <td>-</td>\n",
       "      <td>chr5</td>\n",
       "      <td>149525171</td>\n",
       "      <td>-</td>\n",
       "      <td>inf</td>\n",
       "      <td>0</td>\n",
       "      <td>3</td>\n",
       "      <td>False</td>\n",
       "      <td>True</td>\n",
       "      <td>True</td>\n",
       "      <td>262b16ba-87f7-44e4-ac4c-32325b52b935</td>\n",
       "      <td>216</td>\n",
       "      <td>HighConfidence</td>\n",
       "      <td>-</td>\n",
       "      <td>BLA</td>\n",
       "    </tr>\n",
       "    <tr>\n",
       "      <th>4337</th>\n",
       "      <td>A1901742PD1TT2.qc</td>\n",
       "      <td>PSMA3:ACTR10</td>\n",
       "      <td>chr14</td>\n",
       "      <td>58247832</td>\n",
       "      <td>+</td>\n",
       "      <td>chr14</td>\n",
       "      <td>58234370</td>\n",
       "      <td>+</td>\n",
       "      <td>13.459</td>\n",
       "      <td>0</td>\n",
       "      <td>26</td>\n",
       "      <td>False</td>\n",
       "      <td>True</td>\n",
       "      <td>True</td>\n",
       "      <td>02fd92fa-c00c-4942-8883-8b70b3b0e5d9</td>\n",
       "      <td>553</td>\n",
       "      <td>HighConfidence</td>\n",
       "      <td>Yes</td>\n",
       "      <td>BLA</td>\n",
       "    </tr>\n",
       "    <tr>\n",
       "      <th>4394</th>\n",
       "      <td>A1901744PD1TT1.qc</td>\n",
       "      <td>GRB7:FBXL20</td>\n",
       "      <td>chr17</td>\n",
       "      <td>39746202</td>\n",
       "      <td>+</td>\n",
       "      <td>chr17</td>\n",
       "      <td>39303639</td>\n",
       "      <td>-</td>\n",
       "      <td>442.560</td>\n",
       "      <td>0</td>\n",
       "      <td>3</td>\n",
       "      <td>False</td>\n",
       "      <td>True</td>\n",
       "      <td>True</td>\n",
       "      <td>90828994-2fbc-4544-a288-d6e4ddc1af9b</td>\n",
       "      <td>2059</td>\n",
       "      <td>HighConfidence</td>\n",
       "      <td>Yes</td>\n",
       "      <td>BLA</td>\n",
       "    </tr>\n",
       "  </tbody>\n",
       "</table>\n",
       "<p>153 rows × 19 columns</p>\n",
       "</div>"
      ],
      "text/plain": [
       "                 sample  fusion genes chrom1      base1 strand1 chrom2  \\\n",
       "26    A2102503rccTT1.qc  ZNF879:RSRC1   chr5  179028127       +   chr3   \n",
       "39    A2102504rccTT1.qc  SLC5A1:WFDC2  chr22   32099238       +  chr20   \n",
       "40    A2102505rccTT1.qc  FAM3C:CADPS2   chr7  121396162       -   chr7   \n",
       "57    A2102506rccTT1.qc    SPRY4:CAST   chr5  142324844       -   chr5   \n",
       "68    A2102507rccTT1.qc      NLK:AATF  chr17   28172618       +  chr17   \n",
       "...                 ...           ...    ...        ...     ...    ...   \n",
       "4259  A1901254PD1TT3.qc   THRAP3:SFPQ   chr1   36259484       +   chr1   \n",
       "4278  A1901739PD1TT3.qc  C7orf50:SUN1   chr7    1127257       -   chr7   \n",
       "4306  A1901740PD1TT2.qc  CNBP:CSNK1A1   chr3  129183776       -   chr5   \n",
       "4337  A1901742PD1TT2.qc  PSMA3:ACTR10  chr14   58247832       +  chr14   \n",
       "4394  A1901744PD1TT1.qc   GRB7:FBXL20  chr17   39746202       +  chr17   \n",
       "\n",
       "          base2 strand2   gap (kb)  spanning pairs  spanning reads inframe  \\\n",
       "26    158460935       +        inf               0               3    True   \n",
       "39     45470451       +        inf               0               2     NaN   \n",
       "40    122663569       -   1267.405               0               2   False   \n",
       "57     96675539       +  45649.306               0               2   False   \n",
       "68     37056601       +   8883.987               0               2   False   \n",
       "...         ...     ...        ...             ...             ...     ...   \n",
       "4259   35188090       -   1071.392               0               2   False   \n",
       "4278     865952       +    261.306               0               3   False   \n",
       "4306  149525171       -        inf               0               3   False   \n",
       "4337   58234370       +     13.459               0              26   False   \n",
       "4394   39303639       -    442.560               0               3   False   \n",
       "\n",
       "      aligns  rearrangement                                contig  \\\n",
       "26      True           True  83919edd-d048-479c-8af2-ee0480b84e69   \n",
       "39     False           True  7e15a13d-8916-4658-924c-d518328bf246   \n",
       "40      True           True  2af8c545-97f0-49c1-804f-331c989d0347   \n",
       "57      True           True  9fe91a3f-7520-4431-a0de-e2b2aafa882f   \n",
       "68      True          False  30e2fb17-3748-4985-9954-62912291e167   \n",
       "...      ...            ...                                   ...   \n",
       "4259    True           True  983437ef-eb39-487e-8dea-a85959cf405d   \n",
       "4278    True           True  107009b7-5886-417c-86dc-f084e444cfa4   \n",
       "4306    True           True  262b16ba-87f7-44e4-ac4c-32325b52b935   \n",
       "4337    True           True  02fd92fa-c00c-4942-8883-8b70b3b0e5d9   \n",
       "4394    True           True  90828994-2fbc-4544-a288-d6e4ddc1af9b   \n",
       "\n",
       "      contig break  classification known tissue  \n",
       "26            2113  HighConfidence     -    KID  \n",
       "39             526   LowConfidence     -    KID  \n",
       "40             204  HighConfidence   Yes    KID  \n",
       "57             254  HighConfidence     -    KID  \n",
       "68             406  HighConfidence     -    KID  \n",
       "...            ...             ...   ...    ...  \n",
       "4259           237  HighConfidence     -    BLA  \n",
       "4278           254  HighConfidence     -    BLA  \n",
       "4306           216  HighConfidence     -    BLA  \n",
       "4337           553  HighConfidence   Yes    BLA  \n",
       "4394          2059  HighConfidence   Yes    BLA  \n",
       "\n",
       "[153 rows x 19 columns]"
      ]
     },
     "execution_count": 88,
     "metadata": {},
     "output_type": "execute_result"
    }
   ],
   "source": [
    "protein_coding_fusion_gene.drop_duplicates('sample')"
   ]
  },
  {
   "cell_type": "markdown",
   "id": "5d9143b1-2cb5-4298-bec1-cb1cde273c06",
   "metadata": {
    "tags": []
   },
   "source": [
    "### whether filter inframe genes"
   ]
  },
  {
   "cell_type": "code",
   "execution_count": 201,
   "id": "9ecca4f6-9839-47ed-bc6a-645d9126faff",
   "metadata": {},
   "outputs": [],
   "source": [
    "all_fusion_gene = all_fusion_gene[(all_fusion_gene.inframe!=False) | (all_fusion_gene.known=='Yes')]"
   ]
  },
  {
   "cell_type": "markdown",
   "id": "cfd579a5-324c-4917-abb7-e765fef0380a",
   "metadata": {
    "tags": []
   },
   "source": [
    "### In 3 samples not found fusion events"
   ]
  },
  {
   "cell_type": "code",
   "execution_count": 145,
   "id": "1a02a5b6-4de8-4c5b-ae62-dfc678ed61d5",
   "metadata": {
    "tags": []
   },
   "outputs": [],
   "source": [
    "new_group_normal = new_group_normal[~new_group_normal[0].isin(drop_list)]"
   ]
  },
  {
   "cell_type": "code",
   "execution_count": 146,
   "id": "3ec3c714-43e9-4946-bd31-7817679595c5",
   "metadata": {
    "tags": []
   },
   "outputs": [],
   "source": [
    "sample={}\n",
    "for t in new_group[2].drop_duplicates():\n",
    "    t_normal = new_group_normal.loc[new_group_normal[2]==t][0]\n",
    "    sample[t] = len(t_normal)"
   ]
  },
  {
   "cell_type": "code",
   "execution_count": 157,
   "id": "8e6aee01-b816-4de0-94b9-2719f2f25b0e",
   "metadata": {
    "tags": []
   },
   "outputs": [],
   "source": [
    "filtered_fusion_gene_dict = {}\n",
    "for t in new_group[2].drop_duplicates():\n",
    "    if t =='STO':\n",
    "        filtered_data = pd.read_csv(f'/data1/HOMO_PANGENOME/DYY/data/fusion_gene/jaffa.filter/{t}.csv', sep='\\t',header = None)\n",
    "    else:\n",
    "        filtered_data = pd.read_csv(f'/data1/HOMO_PANGENOME/DYY/data/fusion_gene/jaffa.filter/{t}.csv', sep='\\t')\n",
    "    filtered_fusion_gene_dict[t] = filtered_data\n",
    "    # print(filtered_data.head())"
   ]
  },
  {
   "cell_type": "code",
   "execution_count": 158,
   "id": "e51152ab-1776-4e9f-9d07-ac9012bc24c6",
   "metadata": {
    "tags": []
   },
   "outputs": [],
   "source": [
    "filtered_fusion_gene_dict['STO'].columns=filtered_data.columns"
   ]
  },
  {
   "cell_type": "code",
   "execution_count": 159,
   "id": "6d90228e-c4ee-4d29-a628-8c0eae426f16",
   "metadata": {
    "tags": []
   },
   "outputs": [],
   "source": [
    "filtered_fusion_gene = pd.concat(filtered_fusion_gene_dict.values())"
   ]
  },
  {
   "cell_type": "code",
   "execution_count": 127,
   "id": "4812b5a5-f574-4259-a346-a7917c9ec9c0",
   "metadata": {
    "tags": []
   },
   "outputs": [],
   "source": [
    "all_fusion_gene = filtered_fusion_gene.copy()"
   ]
  },
  {
   "cell_type": "markdown",
   "id": "241abb93-39e0-4e66-bb95-d17a4d2921ba",
   "metadata": {
    "tags": []
   },
   "source": [
    "## grep gene inframe"
   ]
  },
  {
   "cell_type": "code",
   "execution_count": 163,
   "id": "f24f15d9-e2ee-43ea-b0e2-5fc28a83874e",
   "metadata": {},
   "outputs": [
    {
     "data": {
      "text/plain": [
       "7294"
      ]
     },
     "execution_count": 163,
     "metadata": {},
     "output_type": "execute_result"
    }
   ],
   "source": [
    "len(filtered_fusion_gene)"
   ]
  },
  {
   "cell_type": "code",
   "execution_count": 161,
   "id": "e1d1119c-39fa-45aa-9b5f-43dd0fbcfcc9",
   "metadata": {},
   "outputs": [],
   "source": [
    "inframe_fusion_gene = filtered_fusion_gene[filtered_fusion_gene.inframe==True]"
   ]
  },
  {
   "cell_type": "code",
   "execution_count": 358,
   "id": "8e4b04f8-8e9d-4839-adda-783c2dd50d43",
   "metadata": {},
   "outputs": [],
   "source": [
    "inframe_fusion_gene.loc[:,'gene1'] = split_get_n(inframe_fusion_gene['fusion genes'],':',0)\n",
    "inframe_fusion_gene.loc[:,'gene2'] = split_get_n(inframe_fusion_gene['fusion genes'],':',1)\n",
    "inframe_fusion_gene.loc[inframe_fusion_gene.gene1.isin(protein_coding_gene_name[1]),'gene1_protein_coding'] = True\n",
    "inframe_fusion_gene.loc[inframe_fusion_gene.gene2.isin(protein_coding_gene_name[1]),'gene2_protein_coding'] = True\n",
    "inframe_fusion_gene = inframe_fusion_gene[(inframe_fusion_gene.gene1_protein_coding==True) & (inframe_fusion_gene.gene2_protein_coding==True)]"
   ]
  },
  {
   "cell_type": "markdown",
   "id": "6a5def0a-4359-4390-afc1-d47992028bd9",
   "metadata": {},
   "source": [
    "## grep protein coding genes in gencode"
   ]
  },
  {
   "cell_type": "code",
   "execution_count": 409,
   "id": "97ea6922-6398-4641-8513-51f529238374",
   "metadata": {
    "tags": []
   },
   "outputs": [],
   "source": [
    "gencode = pd.read_csv('/data1/HOMO_PANGENOME/DYY/data/gencode.pro_coding.gtf', sep='\\t', header=None)"
   ]
  },
  {
   "cell_type": "code",
   "execution_count": 410,
   "id": "4a9f6e83-d6fb-406e-8189-3d6fd8b21d69",
   "metadata": {
    "tags": []
   },
   "outputs": [],
   "source": [
    "gencode = gencode[gencode[2]=='gene']"
   ]
  },
  {
   "cell_type": "code",
   "execution_count": 416,
   "id": "554a8553-4b5a-48de-888a-a1c330b33ebb",
   "metadata": {
    "tags": []
   },
   "outputs": [],
   "source": [
    "protein_coding_gene_name = pd.DataFrame(split_get_n(split_get_n(gencode[8],';',2),'\"',1)).reset_index(drop=True)\n",
    "protein_coding_gene_name = protein_coding_gene_name[~protein_coding_gene_name[1].apply(lambda x:x[:3]=='ENS')]\n",
    "all_fusion_gene.loc[:,'gene1'] = split_get_n(all_fusion_gene['fusion genes'],':',0)\n",
    "all_fusion_gene.loc[:,'gene2'] = split_get_n(all_fusion_gene['fusion genes'],':',1)\n",
    "all_fusion_gene.loc[all_fusion_gene.gene1.isin(protein_coding_gene_name[1]),'gene1_protein_coding'] = True\n",
    "all_fusion_gene.loc[all_fusion_gene.gene2.isin(protein_coding_gene_name[1]),'gene2_protein_coding'] = True\n",
    "protein_coding_fusion_gene = all_fusion_gene[(all_fusion_gene.gene1_protein_coding==True) & (all_fusion_gene.gene2_protein_coding==True)].drop(['gene1','gene2','gene1_protein_coding','gene2_protein_coding'], axis=1)"
   ]
  },
  {
   "cell_type": "code",
   "execution_count": 183,
   "id": "b9da0641-5a58-4a8d-89ea-38ef3d4fec76",
   "metadata": {
    "tags": []
   },
   "outputs": [],
   "source": [
    "protein_coding_fusion_gene.to_csv('/data1/HOMO_PANGENOME/DYY/data/fusion_gene/1122protein_coding_fusion_gene.csv',sep='\\t',index=False)"
   ]
  },
  {
   "cell_type": "code",
   "execution_count": 12,
   "id": "fb29b8dc-27ee-4473-bb92-fc1ddd82697a",
   "metadata": {
    "tags": []
   },
   "outputs": [],
   "source": [
    "protein_coding_fusion_gene = pd.read_csv('/data1/HOMO_PANGENOME/DYY/data/fusion_gene/1122protein_coding_fusion_gene.csv',sep='\\t')"
   ]
  },
  {
   "cell_type": "code",
   "execution_count": 179,
   "id": "15d9de00-d649-4d94-8a60-9caf7b774312",
   "metadata": {},
   "outputs": [],
   "source": [
    "extract_id = protein_coding_fusion_gene['contig'].tolist()\n",
    "with open ('/data1/HOMO_PANGENOME/DYY/data/fusion_gene/extract_ids.txt','w') as k:\n",
    "    for contig in extract_id:\n",
    "        k.write(f'{contig}\\n')"
   ]
  },
  {
   "cell_type": "code",
   "execution_count": 180,
   "id": "8c961361-d683-41c8-bfa3-10eef2620d19",
   "metadata": {},
   "outputs": [
    {
     "data": {
      "text/plain": [
       "3994"
      ]
     },
     "execution_count": 180,
     "metadata": {},
     "output_type": "execute_result"
    }
   ],
   "source": [
    "len(extract_id)"
   ]
  },
  {
   "cell_type": "markdown",
   "id": "b6cfd1fa-f9b4-4ce3-bae5-c47dbf6d3c83",
   "metadata": {
    "tags": []
   },
   "source": [
    "### inframe protein coding genes 371"
   ]
  },
  {
   "cell_type": "code",
   "execution_count": 207,
   "id": "a823b40a-6b19-4d58-aab2-d3e48c732e80",
   "metadata": {},
   "outputs": [],
   "source": [
    "test = protein_coding_fusion_gene.drop_duplicates('fusion genes')"
   ]
  },
  {
   "cell_type": "code",
   "execution_count": 208,
   "id": "41419fa0-5574-4f9a-ac81-00e2420e7b3d",
   "metadata": {},
   "outputs": [],
   "source": [
    "test[test.inframe==True].to_csv('/data1/HOMO_PANGENOME/DYY/data/fusion_gene/protein_coding_fusion_gene_inframe.csv',sep='\\t',index=False)"
   ]
  },
  {
   "cell_type": "markdown",
   "id": "1089b27e-f30a-423e-ba90-d86509ef0a85",
   "metadata": {},
   "source": [
    "# 4b"
   ]
  },
  {
   "cell_type": "markdown",
   "id": "702f0a3e-01e5-45b6-aff8-ecfd4ab9be09",
   "metadata": {},
   "source": [
    "## same fusion transcirpts in different samples"
   ]
  },
  {
   "cell_type": "code",
   "execution_count": 19,
   "id": "05a3e7b5-0b7c-4d5f-8d4c-158841ed7da6",
   "metadata": {
    "tags": []
   },
   "outputs": [
    {
     "data": {
      "text/plain": [
       "3994"
      ]
     },
     "execution_count": 19,
     "metadata": {},
     "output_type": "execute_result"
    }
   ],
   "source": [
    "len(protein_coding_fusion_gene)"
   ]
  },
  {
   "cell_type": "code",
   "execution_count": 148,
   "id": "7181311c-e595-41a5-8349-d4bdc891866c",
   "metadata": {
    "tags": []
   },
   "outputs": [],
   "source": [
    "recurrent_trans_by_tissue = {}\n",
    "for k,v in protein_coding_fusion_gene.groupby('tissue'):\n",
    "    # v = v.drop_duplicates('fusion genes')\n",
    "    recurrent_trans_by_tissue[k] = len(v)\n",
    "    # break\n",
    "recurrent_trans_df = pd.DataFrame.from_dict(recurrent_trans_by_tissue,orient='index').rename(columns={0:'dif_trans_count'})\n",
    "recurrent_trans_df = pd.DataFrame.from_dict(sample,orient='index').reset_index().rename(columns={'index':'tissue'}).merge(recurrent_trans_df.reset_index().rename(columns={\"index\":\"tissue\"}), on='tissue')\n",
    "recurrent_trans_df = recurrent_trans_df.rename(columns={0:'sample_counts'})\n",
    "recurrent_trans_df.loc[:,'dif_trans_ratio'] = recurrent_trans_df.dif_trans_count/recurrent_trans_df.sample_counts"
   ]
  },
  {
   "cell_type": "code",
   "execution_count": 190,
   "id": "c408720c-e8d4-4578-b4ab-98aa47100ee3",
   "metadata": {
    "tags": []
   },
   "outputs": [],
   "source": [
    "recurrent_trans_by_sample = {}\n",
    "for k,v in protein_coding_fusion_gene.groupby('sample'):\n",
    "    # v = v.drop_duplicates('fusion genes')\n",
    "    recurrent_trans_by_sample[k] = len(v)\n",
    "    # break\n",
    "recurrent_trans_sdf = pd.DataFrame.from_dict(recurrent_trans_by_sample,orient='index').rename(columns={0:'dif_trans_count'})\n",
    "# recurrent_trans_sdf = pd.DataFrame.from_dict(sample,orient='index').reset_index().rename(columns={'index':'sample'}).merge(recurrent_trans_sdf.reset_index().rename(columns={\"index\":\"tissue\"}), on='tissue')\n",
    "# recurrent_trans_sdf = recurrent_trans_sdf.rename(columns={0:'sample_counts'})\n",
    "recurrent_trans_sdf = recurrent_trans_sdf.reset_index().rename(columns={'index':'name'})\n",
    "recurrent_trans_sdf['name'] = recurrent_trans_sdf['name'].str.split('.', expand=True).iloc[:,0]"
   ]
  },
  {
   "cell_type": "code",
   "execution_count": 191,
   "id": "c4f6c5b9-8430-4657-9844-c308642f4da5",
   "metadata": {
    "tags": []
   },
   "outputs": [],
   "source": [
    "plot_recurrent_trans_sdf = recurrent_trans_sdf.merge(group[['name','Sample']])\n",
    "plot_recurrent_trans_sdf = plot_recurrent_trans_sdf.sort_values('Sample')"
   ]
  },
  {
   "cell_type": "code",
   "execution_count": 198,
   "id": "b6572697-4828-4d77-bc0e-0b286ff26885",
   "metadata": {
    "tags": []
   },
   "outputs": [
    {
     "data": {
      "text/plain": [
       "(None,)"
      ]
     },
     "execution_count": 198,
     "metadata": {},
     "output_type": "execute_result"
    }
   ],
   "source": [
    "drop_discrete.to_csv('/data1/HOMO_PANGENOME/DYY/data/fusion_gene/rec_trans_per_sample',sep='\\t',index=False),"
   ]
  },
  {
   "cell_type": "code",
   "execution_count": 196,
   "id": "0f7713f6-8eb1-4dae-b8b7-bf96b06df5bd",
   "metadata": {
    "tags": []
   },
   "outputs": [],
   "source": [
    "discrete_sample = ['A2102514rccTT1','A2102919rccTT1','A1702303J11TT1','A1901742PD1TT2','A1900134PD1TT3','A1701436J01TT1','A1300829D15TT1','A1300690D15TT1','A1700656E05TT1','A1300950D16TT1']"
   ]
  },
  {
   "cell_type": "code",
   "execution_count": 197,
   "id": "4245f0c7-c7f9-493f-b9e6-0ab611b7b15a",
   "metadata": {
    "tags": []
   },
   "outputs": [],
   "source": [
    "drop_discrete = plot_recurrent_trans_sdf[~plot_recurrent_trans_sdf['name'].isin(discrete_sample)]"
   ]
  },
  {
   "cell_type": "code",
   "execution_count": 174,
   "id": "69801dbc",
   "metadata": {
    "tags": []
   },
   "outputs": [],
   "source": [
    "drop_discrete.to_csv('/data1/HOMO_PANGENOME/DYY/data/fusion_gene/filtered_rec_trans_per_sample.csv',sep='\\t',index=False)"
   ]
  },
  {
   "cell_type": "code",
   "execution_count": 5,
   "id": "b26ca9c9-73a9-4bdf-9032-0fdf4cbf0218",
   "metadata": {},
   "outputs": [],
   "source": [
    "drop_discrete = pd.read_csv('/data1/HOMO_PANGENOME/DYY/data/fusion_gene/rec_trans_per_sample.csv',sep='\\t')"
   ]
  },
  {
   "cell_type": "code",
   "execution_count": 180,
   "id": "567ffd55-4f6a-4e43-9d3b-00f0f394ef21",
   "metadata": {
    "tags": []
   },
   "outputs": [
    {
     "data": {
      "image/png": "[encoded data removed]",
      "text/plain": [
       "<Figure size 640x480 with 1 Axes>"
      ]
     },
     "metadata": {},
     "output_type": "display_data"
    }
   ],
   "source": [
    "# sns.boxplot(plot_recurrent_trans_sdf['Sample'], plot_recurrent_trans_sdf['dif_trans_count'],palette=colors)\n",
    "sns.boxplot(drop_discrete,x='Sample',y='dif_trans_count',palette=colors)\n",
    "plt.hlines(xmin=-0.5,xmax=9.5,y=drop_discrete.dif_trans_count.mean(),color='purple',linestyles='--',label='average')\n",
    "plt.legend()\n",
    "plt.savefig('/data1/HOMO_PANGENOME/DYY/plot/11.20_135samples_boxplot_dif_trans_count_per_sample_by_tissue.pdf',dpi=400,bbox_inches='tight')"
   ]
  },
  {
   "cell_type": "code",
   "execution_count": 226,
   "id": "96aaf318-9bed-47cc-af8d-237605525f5e",
   "metadata": {
    "tags": []
   },
   "outputs": [],
   "source": [
    "test = drop_discrete[drop_discrete.dif_trans_count>drop_discrete.dif_trans_count.mean()].groupby('Sample').count()[['name']]"
   ]
  },
  {
   "cell_type": "code",
   "execution_count": 231,
   "id": "a44c9d65-91e5-4c83-85df-a27ef3851f2e",
   "metadata": {
    "tags": []
   },
   "outputs": [],
   "source": [
    "from scipy.stats import chi2_contingency"
   ]
  },
  {
   "cell_type": "code",
   "execution_count": 241,
   "id": "2cb581fb-e298-4c7a-8df5-6261ec897f90",
   "metadata": {
    "tags": []
   },
   "outputs": [],
   "source": [
    "def chi2(count,all_count):\n",
    "    p = chi2_contingency([[count,(all_count-count)],[(58-count),(100-all_count+count)]])[1]\n",
    "    return p"
   ]
  },
  {
   "cell_type": "code",
   "execution_count": 252,
   "id": "f78cb985-240b-4fca-a0d2-eed1d87f8d78",
   "metadata": {
    "tags": []
   },
   "outputs": [],
   "source": [
    "def chi2_(count,all_count):\n",
    "    p = chi2_contingency([[count,(all_count-count)],[58,100]])[1]\n",
    "    return p"
   ]
  },
  {
   "cell_type": "code",
   "execution_count": 179,
   "id": "60cc9689-c019-4cfd-b94c-87859e556a1e",
   "metadata": {
    "tags": []
   },
   "outputs": [],
   "source": [
    "samples_count_dict = {}\n",
    "for t in protein_coding_fusion_gene['tissue'].drop_duplicates():\n",
    "    samples_count_data = protein_coding_fusion_gene[protein_coding_fusion_gene['tissue']==t].drop_duplicates(['sample','fusion genes']).groupby('fusion genes').count().sort_values('sample')[['sample']]\n",
    "    samples_count_data = samples_count_data[samples_count_data['sample']>1]\n",
    "    samples_count = len(protein_coding_fusion_gene[(protein_coding_fusion_gene['fusion genes'].isin(samples_count_data.index.tolist())) & (protein_coding_fusion_gene.tissue==t)][['sample']].drop_duplicates())\n",
    "    samples_count_dict[t] = samples_count"
   ]
  },
  {
   "cell_type": "code",
   "execution_count": 480,
   "id": "44a0e81f-dc5e-405b-a512-2a0af6c06fc4",
   "metadata": {},
   "outputs": [],
   "source": [
    "pd.concat(samples_count_dict).to_csv('/data1/HOMO_PANGENOME/DYY/data/fusion_gene/recurrent_trans_by_samples_by_tissue.csv',sep='\\t')"
   ]
  },
  {
   "cell_type": "code",
   "execution_count": 8,
   "id": "4db28983-dbb8-4c4b-876b-7e04f86487aa",
   "metadata": {
    "tags": []
   },
   "outputs": [],
   "source": [
    "samples_count = pd.read_csv('/data1/HOMO_PANGENOME/DYY/data/fusion_gene/recurrent_trans_by_samples_by_tissue.csv',sep='\\t',index_col=0)"
   ]
  },
  {
   "cell_type": "code",
   "execution_count": 209,
   "id": "6dffab6f-5de2-46e6-928f-d786156a2e92",
   "metadata": {
    "tags": []
   },
   "outputs": [],
   "source": [
    "# same_tis_df = pd.DataFrame()\n",
    "dif_tis_df = pd.DataFrame()\n",
    "recurrent_fusion_trans = pd.DataFrame()\n",
    "for k,v in protein_coding_fusion_gene.groupby('fusion genes'):\n",
    "    if len(v)>1:\n",
    "        tis_data = pd.DataFrame(v)\n",
    "        # if (len(tis_data.tissue.drop_duplicates())==1) & (len(tis_data['sample'].drop_duplicates())>1):\n",
    "        #     same_tis_df = pd.concat([same_tis_df,tis_data])\n",
    "        # elif len(tis_data.tissue.drop_duplicates())>1:\n",
    "        #     dif_tis_df = pd.concat([dif_tis_df,tis_data])\n",
    "        if len(tis_data['sample'].drop_duplicates())>1 :\n",
    "            tis_data = tis_data.drop_duplicates('sample')\n",
    "            recurrent_fusion_trans = pd.concat([recurrent_fusion_trans,tis_data])\n",
    "            if len(tis_data.tissue.drop_duplicates())>1:\n",
    "                dif_tis_df = pd.concat([dif_tis_df,tis_data])"
   ]
  },
  {
   "cell_type": "markdown",
   "id": "163082d8-30b0-4c3e-b52b-6402d5234ea5",
   "metadata": {
    "jp-MarkdownHeadingCollapsed": true,
    "tags": []
   },
   "source": [
    "## sanger seq"
   ]
  },
  {
   "cell_type": "code",
   "execution_count": 131,
   "id": "64cbea18-3887-4a98-98ec-7a9312ce1334",
   "metadata": {},
   "outputs": [],
   "source": [
    "sangers = os.listdir('/data1/HOMO_PANGENOME/DYY/data/fusion_gene/Sanger.seq/fusion.gene_Sanger.seq/')\n",
    "sangers = [x for x in sangers if x[-3:]=='out']\n",
    "sangers = pd.DataFrame(sangers)"
   ]
  },
  {
   "cell_type": "code",
   "execution_count": 132,
   "id": "6cf46f87-e264-4d98-866c-4b4c8db8bfe1",
   "metadata": {
    "tags": []
   },
   "outputs": [],
   "source": [
    "sanger = pd.DataFrame.from_dict({'gene1':split_get_n(sangers[0],'_',0),'gene2':split_get_n(sangers[0],'_',1)})"
   ]
  },
  {
   "cell_type": "code",
   "execution_count": 134,
   "id": "c37abc2c-f9d4-4e76-8c4d-8773f75b803f",
   "metadata": {},
   "outputs": [],
   "source": [
    "sanger.loc[5,'gene1'] = 'ARMCX5'\n",
    "sanger.loc[5,'gene2'] = 'GPRASP2'\n"
   ]
  },
  {
   "cell_type": "code",
   "execution_count": 120,
   "id": "1087c2ef-00e5-48e2-a115-5a8ed831d742",
   "metadata": {},
   "outputs": [],
   "source": [
    "test = pd.concat(raw_fusion_gene.values())"
   ]
  },
  {
   "cell_type": "markdown",
   "id": "ed6857bb-ba00-4216-83c5-347fb0fa53f0",
   "metadata": {
    "tags": []
   },
   "source": [
    "###  in the same tissue calculate samples"
   ]
  },
  {
   "cell_type": "code",
   "execution_count": 22,
   "id": "b6c4beab-8fb6-4f48-987b-a80f96bbbc48",
   "metadata": {},
   "outputs": [],
   "source": [
    "same_tis_counts = pd.DataFrame(same_tis_df.groupby('fusion genes')['sample'].nunique()).reset_index().rename(columns={'sample':'sample_counts'})\n",
    "same_tis = pd.merge(same_tis_df,same_tis_counts)\n",
    "same = same_tis.sort_values(['tissue','known'], ascending=False).drop_duplicates('fusion genes')[['tissue','fusion genes','sample_counts','known']].sort_values('tissue').reset_index(drop=True)\n",
    "same = same.drop('known', axis=1)\n",
    "same.loc[:,'sums'] = same.replace(sample)['tissue']\n",
    "same.loc[:,'percentage'] = same.sample_counts/same['sums']\n",
    "same = same.set_index(['tissue','fusion genes'])['sample_counts'].unstack().T.fillna(0)\n",
    "same.loc[:,'ALL'] = same.sum(axis=1)"
   ]
  },
  {
   "cell_type": "code",
   "execution_count": 25,
   "id": "ffe9149a-3031-4594-911e-4ea134a61a0e",
   "metadata": {},
   "outputs": [],
   "source": [
    "same.to_csv('/data1/HOMO_PANGENOME/DYY/data/fusion_gene/recurrent_fusion_transcirpts_in_dif_samples_in_same_tissue.csv', sep='\\t',index=False)"
   ]
  },
  {
   "cell_type": "markdown",
   "id": "3170ca0e-f192-46cf-ad7f-626bcab9158a",
   "metadata": {
    "tags": []
   },
   "source": [
    "### across different tissues"
   ]
  },
  {
   "cell_type": "code",
   "execution_count": 23,
   "id": "5988d6a0-e706-4005-9ee0-384853b9230e",
   "metadata": {},
   "outputs": [],
   "source": [
    "dif = pd.DataFrame(dif_tis_df.groupby(['fusion genes','tissue'])['sample'].nunique()).unstack().fillna(0)\n",
    "dif.loc[:,'ALL'] = dif.sum(axis=1)"
   ]
  },
  {
   "cell_type": "code",
   "execution_count": 29,
   "id": "73ce41c8-f13f-4602-a952-663dbe506cfd",
   "metadata": {},
   "outputs": [],
   "source": [
    "dif.sort_index().to_csv('/data1/HOMO_PANGENOME/DYY/data/fusion_gene/recurrent_fusion_transcirpts_in_different_tissue.csv', sep='\\t')"
   ]
  },
  {
   "cell_type": "markdown",
   "id": "991863ff-a08a-455d-8b1d-430e188297a7",
   "metadata": {
    "tags": []
   },
   "source": [
    "## fusion with same gene plot"
   ]
  },
  {
   "cell_type": "code",
   "execution_count": 23,
   "id": "3f87c09b-8d21-41ec-9feb-2d61442424f4",
   "metadata": {
    "tags": []
   },
   "outputs": [],
   "source": [
    "pal = sns.color_palette(palette='tab10')\n",
    "lut = dict(zip(list(group['Sample'].unique()), pal))\n",
    "# Convert the palette to vectors that will be drawn on the side of the matrix\n",
    "networks = plot_df.columns.tolist()\n",
    "colors = pd.Series(networks, index=plot_df.columns).map(lut)"
   ]
  },
  {
   "cell_type": "code",
   "execution_count": 25,
   "id": "0a78adaf-0c6b-4e3d-986f-8eed8cb37041",
   "metadata": {},
   "outputs": [],
   "source": [
    "import matplotlib.pyplot as plt\n",
    "import seaborn as sns"
   ]
  },
  {
   "cell_type": "markdown",
   "id": "b7055f2d-3e55-40a4-afcd-8fa4f4ea6bea",
   "metadata": {},
   "source": [
    "### data"
   ]
  },
  {
   "cell_type": "markdown",
   "id": "2f91fa2a-997a-48ca-b068-2d5acbdd3d9c",
   "metadata": {
    "jp-MarkdownHeadingCollapsed": true,
    "tags": []
   },
   "source": [
    "#### compare with jaffal db"
   ]
  },
  {
   "cell_type": "code",
   "execution_count": 26,
   "id": "29fc66d6-19a0-464e-b8b1-5921bc6c0f28",
   "metadata": {},
   "outputs": [
    {
     "data": {
      "text/plain": [
       "4236"
      ]
     },
     "execution_count": 26,
     "metadata": {},
     "output_type": "execute_result"
    }
   ],
   "source": [
    "len(protein_coding_fusion_gene.drop_duplicates('fusion genes'))"
   ]
  },
  {
   "cell_type": "code",
   "execution_count": 27,
   "id": "3e6ef04f-5267-4a87-9a94-333936c3e2d7",
   "metadata": {},
   "outputs": [
    {
     "data": {
      "text/plain": [
       "108"
      ]
     },
     "execution_count": 27,
     "metadata": {},
     "output_type": "execute_result"
    }
   ],
   "source": [
    "len(protein_coding_fusion_gene[protein_coding_fusion_gene.known=='Yes'].drop_duplicates('fusion genes'))"
   ]
  },
  {
   "cell_type": "markdown",
   "id": "d1eb4e63-e997-4fc8-bbc8-5b2dca635380",
   "metadata": {
    "jp-MarkdownHeadingCollapsed": true,
    "tags": []
   },
   "source": [
    "#### compare with tumorfusion db"
   ]
  },
  {
   "cell_type": "code",
   "execution_count": 194,
   "id": "38985958-7338-499e-8d21-603584da7276",
   "metadata": {
    "tags": []
   },
   "outputs": [],
   "source": [
    "tf_db_gene = tumor_fusion_data['Gene_A'].tolist()\n",
    "tf_db_gene = tf_db_gene + tumor_fusion_data['Gene_B'].tolist()\n",
    "jaffa_gene = split_get_n(protein_coding_fusion_gene['fusion genes'],':',0).tolist()\n",
    "jaffa_gene = jaffa_gene + split_get_n(protein_coding_fusion_gene['fusion genes'],':',1).tolist()"
   ]
  },
  {
   "cell_type": "code",
   "execution_count": 195,
   "id": "3c3c3398-8b9f-4558-9bc0-cd2158c8d3b4",
   "metadata": {
    "tags": []
   },
   "outputs": [
    {
     "data": {
      "text/plain": [
       "2985"
      ]
     },
     "execution_count": 195,
     "metadata": {},
     "output_type": "execute_result"
    }
   ],
   "source": [
    "len(pd.DataFrame(tf_db_gene).drop_duplicates().merge(pd.DataFrame(jaffa_gene).drop_duplicates()))"
   ]
  },
  {
   "cell_type": "code",
   "execution_count": 323,
   "id": "c37c87a8-15b4-42d2-b194-d41c284506a6",
   "metadata": {
    "tags": []
   },
   "outputs": [
    {
     "data": {
      "text/plain": [
       "4137"
      ]
     },
     "execution_count": 323,
     "metadata": {},
     "output_type": "execute_result"
    }
   ],
   "source": [
    "len(pd.DataFrame(jaffa_gene).drop_duplicates())"
   ]
  },
  {
   "cell_type": "markdown",
   "id": "eb7bb408-6445-4796-ab57-2677cf7c58b0",
   "metadata": {},
   "source": [
    "### protein coding fusion genes"
   ]
  },
  {
   "cell_type": "markdown",
   "id": "7ae5d0ff-fdbb-422e-a640-8e36a7d6cd22",
   "metadata": {
    "tags": []
   },
   "source": [
    "#### recrrent fusion transcripts"
   ]
  },
  {
   "cell_type": "code",
   "execution_count": 210,
   "id": "6669052e-53d4-4558-9b04-a66c47aed923",
   "metadata": {
    "tags": []
   },
   "outputs": [],
   "source": [
    "rec_trans = recurrent_fusion_trans[['fusion genes','sample','tissue']].groupby(['fusion genes','tissue']).count().unstack()\n",
    "rec_trans.loc[:,'sums'] = rec_trans.sum(axis=1)\n",
    "rec_trans = rec_trans.sort_values('sums',ascending=False).drop('sums',axis=1)\n",
    "rec_trans = rec_trans.T.reset_index().drop('level_0', axis=1).set_index('tissue').T\n",
    "rec_trans.fillna(0)\n",
    "\n",
    "rec_trans.to_csv('/data1/HOMO_PANGENOME/DYY/data/fusion_gene/recurrent_fusion_transcirpts.csv',sep='\\t')"
   ]
  },
  {
   "cell_type": "code",
   "execution_count": 10,
   "id": "98475f18-ad71-4c5a-b404-9588b0f647e0",
   "metadata": {
    "tags": []
   },
   "outputs": [],
   "source": [
    "rec_trans = pd.read_csv('/data1/HOMO_PANGENOME/DYY/data/fusion_gene/recurrent_fusion_transcirpts.csv',sep='\\t',index_col=0)"
   ]
  },
  {
   "cell_type": "code",
   "execution_count": 21,
   "id": "2463e4e6-e248-4b58-b3a7-ecf0cff7f11b",
   "metadata": {
    "tags": []
   },
   "outputs": [],
   "source": [
    "plot_df = rec_trans[rec_trans.sum(axis=1)>2]\n",
    "# plot_df = plot_df.T.reset_index().drop('level_0', axis=1).set_index('tissue').T"
   ]
  },
  {
   "cell_type": "code",
   "execution_count": 360,
   "id": "6fd13a78-c28c-4dfa-b83a-7b3f8e67cf11",
   "metadata": {
    "tags": []
   },
   "outputs": [],
   "source": [
    "test = pd.DataFrame(rec_trans.sum())\n",
    "test1 = pd.DataFrame.from_dict(sample,orient='index').reset_index().rename(columns={'index':'tissue'})#.merge(test.reset_index(), on='tissue')\n",
    "# test1.loc[:,'recurrent_genes_per_sample'] = test1['0_y']/test1['0_x']\n",
    "# test1 = test1.rename(columns={'0_x':'all_samples',\"0_y\":'recurrent_genes'})"
   ]
  },
  {
   "cell_type": "code",
   "execution_count": 370,
   "id": "c84bc1f7-d75e-4052-831b-5e9e86a3d38f",
   "metadata": {},
   "outputs": [],
   "source": [
    "recurrent_trans_df = recurrent_trans_df.merge(test.reset_index()).rename(columns={0:'rec_trans_count'})\n",
    "recurrent_trans_df.loc[:,'rec_trans_ratio'] = recurrent_trans_df.rec_trans_count/recurrent_trans_df.sample_counts"
   ]
  },
  {
   "cell_type": "code",
   "execution_count": 30,
   "id": "4af6f85c-efa8-4145-9d88-ffe21d392f78",
   "metadata": {
    "tags": []
   },
   "outputs": [],
   "source": [
    "from pyecharts.charts import  Sankey\n",
    "from pyecharts import options as opts\n",
    "from pyecharts.render import make_snapshot\n",
    "# from snapshot_selenium import snapshot"
   ]
  },
  {
   "cell_type": "code",
   "execution_count": 37,
   "id": "6926577d-0c79-4a33-8f4b-05cf42773bf5",
   "metadata": {
    "tags": []
   },
   "outputs": [],
   "source": [
    "import random"
   ]
  },
  {
   "cell_type": "code",
   "execution_count": 29,
   "id": "5e850a01-4867-4fcf-9463-2b051657c26e",
   "metadata": {
    "tags": []
   },
   "outputs": [
    {
     "data": {
      "image/png": "[encoded data removed]",
      "text/plain": [
       "<Figure size 600x300 with 1 Axes>"
      ]
     },
     "metadata": {},
     "output_type": "display_data"
    }
   ],
   "source": [
    "ax = plot_df.plot(kind='bar', stacked=True, color=colors, figsize=(6,3))\n",
    "# plt.xticks(rotation=45)\n",
    "ax.spines['right'].set_visible(False)\n",
    "ax.spines['top'].set_visible(False)\n",
    "ax.spines['bottom'].set_visible(False)\n",
    "ax.tick_params(bottom=False, top=False, right=False)\n",
    "# ax.yaxis.set_major_locator(y_major_locator)\n",
    "plt.ylim(0,15)\n",
    "# plt.axis('off')\n",
    "plt.ylabel('Number of samples')\n",
    "plt.savefig('/data1/HOMO_PANGENOME/DYY/data/fusion_gene/protein_coding_recurrent_fusion_transcripts.pdf',bbox_inches='tight',format='pdf')"
   ]
  },
  {
   "cell_type": "code",
   "execution_count": 53,
   "id": "9d9f8adb-0f0c-4f65-a9a3-2eafeb9860c5",
   "metadata": {
    "tags": []
   },
   "outputs": [
    {
     "data": {
      "text/html": [
       "<div>\n",
       "<style scoped>\n",
       "    .dataframe tbody tr th:only-of-type {\n",
       "        vertical-align: middle;\n",
       "    }\n",
       "\n",
       "    .dataframe tbody tr th {\n",
       "        vertical-align: top;\n",
       "    }\n",
       "\n",
       "    .dataframe thead th {\n",
       "        text-align: right;\n",
       "    }\n",
       "</style>\n",
       "<table border=\"1\" class=\"dataframe\">\n",
       "  <thead>\n",
       "    <tr style=\"text-align: right;\">\n",
       "      <th>tissue</th>\n",
       "      <th>BLA</th>\n",
       "      <th>BRE</th>\n",
       "      <th>CER</th>\n",
       "      <th>COL</th>\n",
       "      <th>END</th>\n",
       "      <th>KID</th>\n",
       "      <th>LIV</th>\n",
       "      <th>LUN</th>\n",
       "      <th>REC</th>\n",
       "      <th>STO</th>\n",
       "    </tr>\n",
       "    <tr>\n",
       "      <th>fusion genes</th>\n",
       "      <th></th>\n",
       "      <th></th>\n",
       "      <th></th>\n",
       "      <th></th>\n",
       "      <th></th>\n",
       "      <th></th>\n",
       "      <th></th>\n",
       "      <th></th>\n",
       "      <th></th>\n",
       "      <th></th>\n",
       "    </tr>\n",
       "  </thead>\n",
       "  <tbody>\n",
       "    <tr>\n",
       "      <th>DDOST:TAPBP</th>\n",
       "      <td>1.0</td>\n",
       "      <td>4.0</td>\n",
       "      <td>1.0</td>\n",
       "      <td>0.0</td>\n",
       "      <td>0.0</td>\n",
       "      <td>2.0</td>\n",
       "      <td>0.0</td>\n",
       "      <td>0.0</td>\n",
       "      <td>3.0</td>\n",
       "      <td>2.0</td>\n",
       "    </tr>\n",
       "    <tr>\n",
       "      <th>CEACAM5:SLC12A2</th>\n",
       "      <td>0.0</td>\n",
       "      <td>0.0</td>\n",
       "      <td>0.0</td>\n",
       "      <td>7.0</td>\n",
       "      <td>0.0</td>\n",
       "      <td>0.0</td>\n",
       "      <td>0.0</td>\n",
       "      <td>0.0</td>\n",
       "      <td>4.0</td>\n",
       "      <td>0.0</td>\n",
       "    </tr>\n",
       "    <tr>\n",
       "      <th>LYZ:CTSS</th>\n",
       "      <td>0.0</td>\n",
       "      <td>3.0</td>\n",
       "      <td>4.0</td>\n",
       "      <td>0.0</td>\n",
       "      <td>0.0</td>\n",
       "      <td>0.0</td>\n",
       "      <td>0.0</td>\n",
       "      <td>0.0</td>\n",
       "      <td>1.0</td>\n",
       "      <td>3.0</td>\n",
       "    </tr>\n",
       "    <tr>\n",
       "      <th>DDOST:PIGR</th>\n",
       "      <td>0.0</td>\n",
       "      <td>0.0</td>\n",
       "      <td>1.0</td>\n",
       "      <td>0.0</td>\n",
       "      <td>0.0</td>\n",
       "      <td>0.0</td>\n",
       "      <td>0.0</td>\n",
       "      <td>4.0</td>\n",
       "      <td>0.0</td>\n",
       "      <td>1.0</td>\n",
       "    </tr>\n",
       "    <tr>\n",
       "      <th>EIF2S3:CEACAM5</th>\n",
       "      <td>2.0</td>\n",
       "      <td>0.0</td>\n",
       "      <td>0.0</td>\n",
       "      <td>2.0</td>\n",
       "      <td>0.0</td>\n",
       "      <td>0.0</td>\n",
       "      <td>0.0</td>\n",
       "      <td>0.0</td>\n",
       "      <td>2.0</td>\n",
       "      <td>0.0</td>\n",
       "    </tr>\n",
       "    <tr>\n",
       "      <th>...</th>\n",
       "      <td>...</td>\n",
       "      <td>...</td>\n",
       "      <td>...</td>\n",
       "      <td>...</td>\n",
       "      <td>...</td>\n",
       "      <td>...</td>\n",
       "      <td>...</td>\n",
       "      <td>...</td>\n",
       "      <td>...</td>\n",
       "      <td>...</td>\n",
       "    </tr>\n",
       "    <tr>\n",
       "      <th>FRMD4A:DEGS1</th>\n",
       "      <td>0.0</td>\n",
       "      <td>0.0</td>\n",
       "      <td>0.0</td>\n",
       "      <td>0.0</td>\n",
       "      <td>0.0</td>\n",
       "      <td>1.0</td>\n",
       "      <td>0.0</td>\n",
       "      <td>0.0</td>\n",
       "      <td>0.0</td>\n",
       "      <td>0.0</td>\n",
       "    </tr>\n",
       "    <tr>\n",
       "      <th>FRMD4B:SUCLG2</th>\n",
       "      <td>0.0</td>\n",
       "      <td>1.0</td>\n",
       "      <td>0.0</td>\n",
       "      <td>0.0</td>\n",
       "      <td>0.0</td>\n",
       "      <td>0.0</td>\n",
       "      <td>0.0</td>\n",
       "      <td>0.0</td>\n",
       "      <td>0.0</td>\n",
       "      <td>0.0</td>\n",
       "    </tr>\n",
       "    <tr>\n",
       "      <th>FRMD5:AVEN</th>\n",
       "      <td>1.0</td>\n",
       "      <td>0.0</td>\n",
       "      <td>0.0</td>\n",
       "      <td>0.0</td>\n",
       "      <td>0.0</td>\n",
       "      <td>0.0</td>\n",
       "      <td>0.0</td>\n",
       "      <td>0.0</td>\n",
       "      <td>0.0</td>\n",
       "      <td>0.0</td>\n",
       "    </tr>\n",
       "    <tr>\n",
       "      <th>FRS2:ANO1</th>\n",
       "      <td>1.0</td>\n",
       "      <td>0.0</td>\n",
       "      <td>0.0</td>\n",
       "      <td>0.0</td>\n",
       "      <td>0.0</td>\n",
       "      <td>0.0</td>\n",
       "      <td>0.0</td>\n",
       "      <td>0.0</td>\n",
       "      <td>0.0</td>\n",
       "      <td>0.0</td>\n",
       "    </tr>\n",
       "    <tr>\n",
       "      <th>ZYG11B:RABIF</th>\n",
       "      <td>1.0</td>\n",
       "      <td>0.0</td>\n",
       "      <td>0.0</td>\n",
       "      <td>0.0</td>\n",
       "      <td>0.0</td>\n",
       "      <td>0.0</td>\n",
       "      <td>0.0</td>\n",
       "      <td>0.0</td>\n",
       "      <td>0.0</td>\n",
       "      <td>0.0</td>\n",
       "    </tr>\n",
       "  </tbody>\n",
       "</table>\n",
       "<p>3831 rows × 10 columns</p>\n",
       "</div>"
      ],
      "text/plain": [
       "tissue           BLA  BRE  CER  COL  END  KID  LIV  LUN  REC  STO\n",
       "fusion genes                                                     \n",
       "DDOST:TAPBP      1.0  4.0  1.0  0.0  0.0  2.0  0.0  0.0  3.0  2.0\n",
       "CEACAM5:SLC12A2  0.0  0.0  0.0  7.0  0.0  0.0  0.0  0.0  4.0  0.0\n",
       "LYZ:CTSS         0.0  3.0  4.0  0.0  0.0  0.0  0.0  0.0  1.0  3.0\n",
       "DDOST:PIGR       0.0  0.0  1.0  0.0  0.0  0.0  0.0  4.0  0.0  1.0\n",
       "EIF2S3:CEACAM5   2.0  0.0  0.0  2.0  0.0  0.0  0.0  0.0  2.0  0.0\n",
       "...              ...  ...  ...  ...  ...  ...  ...  ...  ...  ...\n",
       "FRMD4A:DEGS1     0.0  0.0  0.0  0.0  0.0  1.0  0.0  0.0  0.0  0.0\n",
       "FRMD4B:SUCLG2    0.0  1.0  0.0  0.0  0.0  0.0  0.0  0.0  0.0  0.0\n",
       "FRMD5:AVEN       1.0  0.0  0.0  0.0  0.0  0.0  0.0  0.0  0.0  0.0\n",
       "FRS2:ANO1        1.0  0.0  0.0  0.0  0.0  0.0  0.0  0.0  0.0  0.0\n",
       "ZYG11B:RABIF     1.0  0.0  0.0  0.0  0.0  0.0  0.0  0.0  0.0  0.0\n",
       "\n",
       "[3831 rows x 10 columns]"
      ]
     },
     "execution_count": 53,
     "metadata": {},
     "output_type": "execute_result"
    }
   ],
   "source": [
    "test = protein_coding_fusion_gene[['fusion genes','sample','tissue']].groupby(['fusion genes','tissue']).count().unstack()\n",
    "test.loc[:,'sums'] = test.sum(axis=1)\n",
    "test = test.sort_values('sums',ascending=False).drop('sums',axis=1)\n",
    "test = test.T.reset_index().drop('level_0', axis=1).set_index('tissue').T\n",
    "test.fillna(0)"
   ]
  },
  {
   "cell_type": "markdown",
   "id": "9dae6258-27f9-44ca-bb96-75afb03455b2",
   "metadata": {},
   "source": [
    "# 4c"
   ]
  },
  {
   "cell_type": "code",
   "execution_count": 54,
   "id": "a4970675-b346-4bd0-bdbc-aca694a93048",
   "metadata": {
    "tags": []
   },
   "outputs": [],
   "source": [
    "rec_count_df = rec_trans.copy().fillna(0)\n",
    "rec_count_df = rec_count_df.applymap(lambda x: 1 if x != 0 else 0)\n",
    "rec_count_df.loc[:,'tissues'] = rec_count_df.sum(axis=1)\n",
    "df = pd.DataFrame(columns=rec_count_df.columns.tolist()[:-1])\n",
    "for t in df.columns.tolist():\n",
    "    for i in range(6):\n",
    "        df.loc[f'{i+1} same fusion',t] = len(rec_count_df[(rec_count_df[t]==1) & (rec_count_df.tissues-test[t]==i)])"
   ]
  },
  {
   "cell_type": "code",
   "execution_count": 56,
   "id": "ea1b5c17-11cb-4ae3-9e48-f06a4bfaa512",
   "metadata": {
    "tags": []
   },
   "outputs": [],
   "source": [
    "plot_dict = {}\n",
    "for t in df.columns.tolist():\n",
    "    plot_dict[t] = rec_trans[rec_trans[t]>=1].index.tolist()"
   ]
  },
  {
   "cell_type": "code",
   "execution_count": 58,
   "id": "f94aebff-383c-4dba-af15-75621d2bee02",
   "metadata": {
    "tags": []
   },
   "outputs": [],
   "source": [
    "from upsetplot import from_contents\n",
    "from upsetplot import plot\n",
    "from upsetplot import generate_counts, UpSet"
   ]
  },
  {
   "cell_type": "code",
   "execution_count": 199,
   "id": "e74aa751-7077-412e-a752-c00efc91ee46",
   "metadata": {
    "tags": []
   },
   "outputs": [
    {
     "data": {
      "image/png": "[encoded data removed]",
      "text/plain": [
       "<Figure size 1055.56x444.444 with 4 Axes>"
      ]
     },
     "metadata": {},
     "output_type": "display_data"
    }
   ],
   "source": [
    "upset = UpSet(from_contents(plot_dict),min_degree=2, element_size = 20, sort_by='cardinality',  show_counts=True, facecolor='#303030')\n",
    "upset.style_subsets(present=[\"COL\", \"REC\"],\n",
    "                    facecolor=\"darkblue\",\n",
    "                    label=\"colorectal\")\n",
    "upset.style_subsets(present=[\"BRE\",'BLA'],\n",
    "                    facecolor=\"darkgreen\",\n",
    "                    label=\"cluster\")\n",
    "upset.plot()\n",
    "# plt.show()\n",
    "plt.savefig('/data1/HOMO_PANGENOME/DYY/plot/121upset_rec_trans_intersect.pdf', bbox_inches = 'tight', dpi=400)"
   ]
  },
  {
   "cell_type": "code",
   "execution_count": 76,
   "id": "06868030-990e-4c26-8c68-cf0f70c6075a",
   "metadata": {},
   "outputs": [
    {
     "data": {
      "image/png": "[encoded data removed]",
      "text/plain": [
       "<Figure size 1138.89x444.444 with 4 Axes>"
      ]
     },
     "metadata": {},
     "output_type": "display_data"
    }
   ],
   "source": [
    "upset = UpSet(from_contents(plot_dict),min_degree=2, element_size = 20, sort_by='cardinality',  show_counts=True, facecolor='#7f7f7f')\n",
    "upset.style_subsets(present=[\"COL\", \"REC\"],\n",
    "                    facecolor=\"#1f77b4\",\n",
    "                    label=\"colorectal\")\n",
    "upset.style_subsets(present=[\"BRE\",'BLA'],\n",
    "                    facecolor=\"#04a02c\",\n",
    "                    label=\"BRE&BLA\")\n",
    "upset.plot()\n",
    "plt.savefig('/data1/HOMO_PANGENOME/DYY/plot/13upset_rec_trans_intersect.pdf', bbox_inches = 'tight', dpi=400)"
   ]
  },
  {
   "cell_type": "code",
   "execution_count": 185,
   "id": "f01cbb13-ae46-4001-8f7b-218c2de4ed36",
   "metadata": {
    "tags": []
   },
   "outputs": [
    {
     "data": {
      "text/plain": [
       "48"
      ]
     },
     "execution_count": 185,
     "metadata": {},
     "output_type": "execute_result"
    }
   ],
   "source": [
    "len(rec_trans[rec_trans.sum(axis=1)==2])"
   ]
  },
  {
   "cell_type": "code",
   "execution_count": 186,
   "id": "2d17d4fe-d912-44ed-bd34-7c3907b86523",
   "metadata": {
    "tags": []
   },
   "outputs": [
    {
     "data": {
      "text/plain": [
       "50"
      ]
     },
     "execution_count": 186,
     "metadata": {},
     "output_type": "execute_result"
    }
   ],
   "source": [
    "len(rec_trans[rec_trans.count(axis=1)>=2])"
   ]
  },
  {
   "cell_type": "markdown",
   "id": "467a6e46-e1db-4a95-a656-0dec087cedb9",
   "metadata": {},
   "source": [
    "# 4e f"
   ]
  },
  {
   "cell_type": "markdown",
   "id": "71db153d-faf4-4186-ba2c-6f1910e10c70",
   "metadata": {},
   "source": [
    "#### fusion partner genes"
   ]
  },
  {
   "cell_type": "code",
   "execution_count": 13,
   "id": "44367452-694f-49a7-991c-f51937bc584f",
   "metadata": {
    "tags": []
   },
   "outputs": [],
   "source": [
    "protein_coding_fusion_gene.loc[:,'gene1'] = split_get_n(protein_coding_fusion_gene['fusion genes'],':',0)\n",
    "protein_coding_fusion_gene.loc[:,'gene2'] = split_get_n(protein_coding_fusion_gene['fusion genes'],':',1)\n",
    "gene1 = protein_coding_fusion_gene[['gene1','tissue','sample']].rename(columns={'gene1':'gene'}).drop_duplicates(['gene','sample'])\n",
    "gene2 = protein_coding_fusion_gene[['gene2','tissue','sample']].rename(columns={'gene2':'gene'}).drop_duplicates(['gene','sample'])\n",
    "concat_df = pd.concat([gene1,gene2]).groupby(['gene', 'tissue']).count().unstack()\n",
    "# concat_df = concat_df[concat_df.count(axis=1)>1]"
   ]
  },
  {
   "cell_type": "code",
   "execution_count": 14,
   "id": "da80fb5b-cf12-4c78-82af-9886fff3e83e",
   "metadata": {
    "tags": []
   },
   "outputs": [
    {
     "data": {
      "text/plain": [
       "4137"
      ]
     },
     "execution_count": 14,
     "metadata": {},
     "output_type": "execute_result"
    }
   ],
   "source": [
    "len(concat_df)"
   ]
  },
  {
   "cell_type": "code",
   "execution_count": 287,
   "id": "24a92619-a39a-4645-8f1b-36d0e49ff6e4",
   "metadata": {},
   "outputs": [],
   "source": [
    "pd.DataFrame(concat_df.index.tolist()).to_csv('/data1/HOMO_PANGENOME/DYY/data/fusion_gene/recurrent_fusion_genes_for_go_and_kegg.csv',sep='\\t', index=False)"
   ]
  },
  {
   "cell_type": "code",
   "execution_count": 337,
   "id": "7a379935-1376-4fd7-92e4-9ae7cfc42647",
   "metadata": {
    "tags": []
   },
   "outputs": [
    {
     "data": {
      "text/plain": [
       "<matplotlib.legend.Legend at 0x7fbf483927d0>"
      ]
     },
     "execution_count": 337,
     "metadata": {},
     "output_type": "execute_result"
    },
    {
     "data": {
      "image/png": "[encoded data removed]",
      "text/plain": [
       "<Figure size 600x300 with 1 Axes>"
      ]
     },
     "metadata": {},
     "output_type": "display_data"
    }
   ],
   "source": [
    "concat_df.loc[:,'sums'] = concat_df.sum(axis=1)\n",
    "concat_df = concat_df[concat_df['sums']>1]\n",
    "concat_df = concat_df.sort_values('sums',ascending=False).drop('sums',axis=1)\n",
    "plot_df = concat_df.head(25)\n",
    "plot_df = plot_df.T.reset_index().drop('level_0', axis=1).set_index('tissue').T\n",
    "ax = plot_df.plot(kind='bar', stacked=True, color=colors, figsize=(6,3))\n",
    "plt.xticks(rotation=45)\n",
    "ax.spines['right'].set_visible(False)\n",
    "ax.spines['top'].set_visible(False)\n",
    "ax.spines['bottom'].set_visible(False)\n",
    "ax.tick_params(bottom=False, top=False, right=False)\n",
    "# ax.yaxis.set_major_locator(y_major_locator)\n",
    "plt.ylim(0,50)\n",
    "# plt.axis('off')\n",
    "plt.ylabel('Number of samples')\n",
    "plt.legend(loc='best',\n",
    "           # bbox_to_anchor=(1.0,1.0), \n",
    "           ncol=5)\n",
    "# plt.savefig('/data1/HOMO_PANGENOME/DYY/data/fusion_gene/11.20_protein_coding_recurrent_genes.pdf', bbox_inches='tight',dpi=400)"
   ]
  },
  {
   "cell_type": "markdown",
   "id": "e54d761e-38a7-400c-819a-0a065451b3db",
   "metadata": {},
   "source": [
    "#### partner genes in recurrent transcripts"
   ]
  },
  {
   "cell_type": "code",
   "execution_count": 332,
   "id": "c8652492-31fd-46e4-91d9-112e0b7a0fca",
   "metadata": {
    "tags": []
   },
   "outputs": [],
   "source": [
    "rec_concat_df.loc[:,'sums'] = rec_concat_df.sum(axis=1)\n",
    "rec_concat_df = rec_concat_df[rec_concat_df['sums']>2]\n",
    "rec_concat_df = rec_concat_df.sort_values('sums',ascending=False).drop('sums',axis=1)\n",
    "# plot_df = concat_df.head(25)\n",
    "rec_plot_df = rec_concat_df.head(22)\n",
    "# plot_df = plot_df.T.reset_index().drop('level_0', axis=1).set_index('tissue').T"
   ]
  },
  {
   "cell_type": "code",
   "execution_count": 333,
   "id": "b90301bf-e48c-46cb-b97f-d639110392c1",
   "metadata": {
    "tags": []
   },
   "outputs": [
    {
     "data": {
      "image/png": "[encoded data removed]",
      "text/plain": [
       "<Figure size 600x300 with 1 Axes>"
      ]
     },
     "metadata": {},
     "output_type": "display_data"
    }
   ],
   "source": [
    "# plt.figure(figsize=(15,8))\n",
    "ax = rec_plot_df.plot(kind='bar', stacked=True, color=colors, figsize=(6,3))\n",
    "plt.xticks(rotation=45)\n",
    "ax.spines['right'].set_visible(False)\n",
    "ax.spines['top'].set_visible(False)\n",
    "ax.spines['bottom'].set_visible(False)\n",
    "ax.tick_params(bottom=False, top=False, right=False)\n",
    "# ax.yaxis.set_major_locator(y_major_locator)\n",
    "plt.ylim(0,50)\n",
    "# plt.axis('off')\n",
    "plt.ylabel('Number of samples')\n",
    "plt.legend(loc='best',\n",
    "           # bbox_to_anchor=(1.0,1.0), \n",
    "           ncol=5)\n",
    "# plt.show()\n",
    "plt.savefig('/data1/HOMO_PANGENOME/DYY/data/fusion_gene/11.21_protein_coding_recurrent_trans_genes.pdf', bbox_inches='tight',dpi=400)"
   ]
  },
  {
   "cell_type": "markdown",
   "id": "d6d6c8a7-9a00-40d0-a0b7-62e98d22ed2f",
   "metadata": {},
   "source": [
    "#### pie plot of all trans"
   ]
  },
  {
   "cell_type": "code",
   "execution_count": 424,
   "id": "57fe2ef8-85e8-433c-a90d-1a1ad0639f70",
   "metadata": {
    "tags": []
   },
   "outputs": [
    {
     "data": {
      "text/plain": [
       "3831"
      ]
     },
     "execution_count": 424,
     "metadata": {},
     "output_type": "execute_result"
    }
   ],
   "source": [
    "all_fusion = protein_coding_fusion_gene.drop_duplicates('fusion genes')\n",
    "len(all_fusion)"
   ]
  },
  {
   "cell_type": "code",
   "execution_count": 388,
   "id": "1b162298-e571-4b78-a3c9-fb76c715a988",
   "metadata": {
    "tags": []
   },
   "outputs": [
    {
     "data": {
      "text/plain": [
       "45"
      ]
     },
     "execution_count": 388,
     "metadata": {},
     "output_type": "execute_result"
    }
   ],
   "source": [
    "inter_with_tf = set(tumor_fusion_data.Gene_A+':'+tumor_fusion_data.Gene_B).intersection(set(all_fusion['fusion genes']))\n",
    "len(inter_with_tf)"
   ]
  },
  {
   "cell_type": "code",
   "execution_count": 389,
   "id": "3ed8548b-b2b6-4215-a8eb-ff5ba7f0a5b5",
   "metadata": {
    "tags": []
   },
   "outputs": [],
   "source": [
    "remain_fusion = all_fusion[~all_fusion['fusion genes'].isin(inter_with_tf)]"
   ]
  },
  {
   "cell_type": "code",
   "execution_count": 392,
   "id": "d2b1fca4-6586-4255-8111-edf619ad535f",
   "metadata": {
    "tags": []
   },
   "outputs": [
    {
     "data": {
      "text/plain": [
       "52"
      ]
     },
     "execution_count": 392,
     "metadata": {},
     "output_type": "execute_result"
    }
   ],
   "source": [
    "inter_with_jl = remain_fusion[remain_fusion.known=='Yes'][['fusion genes']]\n",
    "len(inter_with_jl)"
   ]
  },
  {
   "cell_type": "code",
   "execution_count": 399,
   "id": "2e2b0157-7f7a-4c9d-a82c-a6bc40cf5ce2",
   "metadata": {
    "tags": []
   },
   "outputs": [
    {
     "data": {
      "text/plain": [
       "3734"
      ]
     },
     "execution_count": 399,
     "metadata": {},
     "output_type": "execute_result"
    }
   ],
   "source": [
    "remain = remain_fusion[remain_fusion.known!='Yes']\n",
    "len(remain)"
   ]
  },
  {
   "cell_type": "code",
   "execution_count": 401,
   "id": "59dd8f58-1c30-4abd-9363-e38924b8e140",
   "metadata": {
    "tags": []
   },
   "outputs": [],
   "source": [
    "abs_novel = remain[~(remain.gene1.isin(tf_db_gene) | (remain.gene2.isin(tf_db_gene)))]"
   ]
  },
  {
   "cell_type": "code",
   "execution_count": 425,
   "id": "f4586c7c-b923-49ee-9aca-7fe7ea830417",
   "metadata": {
    "tags": []
   },
   "outputs": [],
   "source": [
    "both_known = remain[(remain.gene1.isin(tf_db_gene) & (remain.gene2.isin(tf_db_gene)))]"
   ]
  },
  {
   "cell_type": "code",
   "execution_count": 427,
   "id": "3442b62c-30f8-429e-9892-5175747b873e",
   "metadata": {
    "tags": []
   },
   "outputs": [
    {
     "data": {
      "text/plain": [
       "3398"
      ]
     },
     "execution_count": 427,
     "metadata": {},
     "output_type": "execute_result"
    }
   ],
   "source": [
    "len(remain[(remain.gene1.isin(tf_db_gene) | (remain.gene2.isin(tf_db_gene)))])"
   ]
  },
  {
   "cell_type": "code",
   "execution_count": 426,
   "id": "a7fcd41e-60d7-4fe3-bb21-af60d1435ec0",
   "metadata": {
    "tags": []
   },
   "outputs": [
    {
     "data": {
      "text/plain": [
       "1876"
      ]
     },
     "execution_count": 426,
     "metadata": {},
     "output_type": "execute_result"
    }
   ],
   "source": [
    "len(both_known)"
   ]
  },
  {
   "cell_type": "code",
   "execution_count": 402,
   "id": "2b782afe-05b2-4eca-878e-49002bed83c4",
   "metadata": {
    "tags": []
   },
   "outputs": [
    {
     "data": {
      "text/plain": [
       "336"
      ]
     },
     "execution_count": 402,
     "metadata": {},
     "output_type": "execute_result"
    }
   ],
   "source": [
    "len(abs_novel)"
   ]
  },
  {
   "cell_type": "code",
   "execution_count": 148,
   "id": "42b95c7b-05b1-408f-a295-e3ca8bc0cd84",
   "metadata": {},
   "outputs": [],
   "source": [
    "plot_fusion_data = dif_tis_df[['fusion genes','tissue','sample']]\n",
    "plot_fusion_data = plot_fusion_data.groupby(['fusion genes', 'tissue']).count().unstack()\n",
    "plot_fusion_data.loc[:,'sums'] = plot_fusion_data.sum(axis=1)\n",
    "plot_fusion_data = plot_fusion_data[plot_fusion_data['sums']>2]\n",
    "plot_fusion_data = plot_fusion_data.sort_values('sums',ascending=False).drop('sums',axis=1)\n",
    "# plot_fusion_df = plot_fusion_data.head(25)\n",
    "plot_fusion_df = plot_fusion_data.T.reset_index().drop('level_0', axis=1).set_index('tissue').T"
   ]
  },
  {
   "cell_type": "code",
   "execution_count": 149,
   "id": "1110de80-bd7d-4854-b96e-221b71ca47f2",
   "metadata": {},
   "outputs": [
    {
     "data": {
      "text/plain": [
       "19"
      ]
     },
     "execution_count": 149,
     "metadata": {},
     "output_type": "execute_result"
    }
   ],
   "source": [
    "len(plot_fusion_df)"
   ]
  },
  {
   "cell_type": "code",
   "execution_count": 152,
   "id": "bcb5b320-0f8d-4c80-927e-234bcfbedece",
   "metadata": {},
   "outputs": [],
   "source": [
    "test = plot_fusion_df.reset_index()[['fusion genes']]\n",
    "concat_test = pd.concat([split_get_n(test['fusion genes'],':',0),split_get_n(test['fusion genes'],':',1)])"
   ]
  },
  {
   "cell_type": "code",
   "execution_count": 256,
   "id": "0f1ec662-c05e-434c-bc17-e4310de44e57",
   "metadata": {},
   "outputs": [],
   "source": [
    "send_fusion = pd.read_csv('/data1/HOMO_PANGENOME/DYY/data/fusion_gene/same_fusion_dif_samples_dif_tissues.csv', sep='\\t')"
   ]
  },
  {
   "cell_type": "code",
   "execution_count": 258,
   "id": "1f8fd08a-16d1-4f79-8ac5-62019462ad64",
   "metadata": {},
   "outputs": [],
   "source": [
    "recurrent_fusion_trans[recurrent_fusion_trans['fusion genes'].isin(plot_df.index.tolist())].to_csv('/data1/HOMO_PANGENOME/DYY/data/fusion_gene/same_fusion_at_least_3_samples_dif_tissues.csv',sep='\\t')"
   ]
  },
  {
   "cell_type": "code",
   "execution_count": 271,
   "id": "643d722c-1e5e-447c-93f9-453b59c850ee",
   "metadata": {},
   "outputs": [],
   "source": [
    "test1 = recurrent_fusion_trans[recurrent_fusion_trans['fusion genes'].isin(plot_df.index.tolist())]['sample']+recurrent_fusion_trans[recurrent_fusion_trans['fusion genes'].isin(plot_df.index.tolist())]['fusion genes']"
   ]
  },
  {
   "cell_type": "code",
   "execution_count": 272,
   "id": "25b054a3-e70d-4f42-9d5e-02a55733eec1",
   "metadata": {},
   "outputs": [],
   "source": [
    "test2 = send_fusion['sample']+send_fusion['fusion genes']"
   ]
  },
  {
   "cell_type": "code",
   "execution_count": 277,
   "id": "a2a6eeb4-1f66-4337-9c41-165adb2ea1a1",
   "metadata": {},
   "outputs": [],
   "source": [
    "test1 = pd.DataFrame(test1)\n",
    "test2 = pd.DataFrame(test2)"
   ]
  },
  {
   "cell_type": "code",
   "execution_count": 870,
   "id": "acb3d8b6-2ccc-4ad4-abda-40bf634108dc",
   "metadata": {},
   "outputs": [],
   "source": [
    "filtered_dict = {}\n",
    "for t in new_group[2].drop_duplicates():\n",
    "    tumor = fusion_gene_dict[t].reset_index(drop=True)\n",
    "    ##inframe & rearrangement\n",
    "    # tumor = tumor[((tumor.inframe!=False) & (tumor.rearrangement==True)) | (tumor.known=='Yes')]\n",
    "    tumor = tumor.set_index('sample').drop_duplicates(['fusion genes','base1','base2','contig'])\n",
    "    filtered_dict[t] = tumor\n",
    "    # break"
   ]
  },
  {
   "cell_type": "code",
   "execution_count": 891,
   "id": "a1f7d27e-3a38-4ae3-ba5d-4b57f58af0aa",
   "metadata": {},
   "outputs": [],
   "source": [
    "all_filter_gene = pd.concat(filtered_dict.values()).reset_index(drop=True)"
   ]
  },
  {
   "cell_type": "code",
   "execution_count": 933,
   "id": "397272ac-2ef7-4a2c-83fe-693766eab577",
   "metadata": {},
   "outputs": [
    {
     "data": {
      "text/plain": [
       "130"
      ]
     },
     "execution_count": 933,
     "metadata": {},
     "output_type": "execute_result"
    }
   ],
   "source": [
    "len(all_fusion_gene.loc[all_fusion_gene.known=='Yes'])"
   ]
  },
  {
   "cell_type": "code",
   "execution_count": 350,
   "id": "22f5ca49-844f-459f-a992-3a827bf47111",
   "metadata": {
    "tags": []
   },
   "outputs": [],
   "source": [
    "test = protein_coding_fusion_gene.copy().reset_index(drop=True)"
   ]
  },
  {
   "cell_type": "code",
   "execution_count": 351,
   "id": "e8191b8b-3b26-4075-837a-c072c52eff0f",
   "metadata": {
    "tags": []
   },
   "outputs": [],
   "source": [
    "test.loc[:,'gene1'] = split_get_n(test['fusion genes'],':',0)\n",
    "test.loc[:,'gene2'] = split_get_n(test['fusion genes'],':',1)"
   ]
  },
  {
   "cell_type": "code",
   "execution_count": 352,
   "id": "aec18050-fd37-46eb-9372-8672746e2c9c",
   "metadata": {
    "tags": []
   },
   "outputs": [],
   "source": [
    "test0 = test.drop_duplicates('fusion genes')"
   ]
  },
  {
   "cell_type": "code",
   "execution_count": 353,
   "id": "a4cd9b2e-513d-4b84-807f-207f8f8c713a",
   "metadata": {
    "tags": []
   },
   "outputs": [
    {
     "data": {
      "text/plain": [
       "97"
      ]
     },
     "execution_count": 353,
     "metadata": {},
     "output_type": "execute_result"
    }
   ],
   "source": [
    "len(test0[test0.known=='Yes'])"
   ]
  },
  {
   "cell_type": "code",
   "execution_count": 354,
   "id": "39bb906a-be77-4679-9344-9f37b0ae9044",
   "metadata": {
    "tags": []
   },
   "outputs": [
    {
     "data": {
      "text/plain": [
       "3831"
      ]
     },
     "execution_count": 354,
     "metadata": {},
     "output_type": "execute_result"
    }
   ],
   "source": [
    "test.drop_duplicates('fusion genes')['known'].count()"
   ]
  },
  {
   "cell_type": "code",
   "execution_count": 344,
   "id": "dabf6f81-82bf-4638-bd87-b30a082d0a3b",
   "metadata": {
    "tags": []
   },
   "outputs": [
    {
     "data": {
      "text/plain": [
       "100"
      ]
     },
     "execution_count": 344,
     "metadata": {},
     "output_type": "execute_result"
    }
   ],
   "source": [
    "len(test[test.known=='Yes'])"
   ]
  },
  {
   "cell_type": "code",
   "execution_count": 345,
   "id": "329c511c-e147-4da5-a3ac-6bdcde3360db",
   "metadata": {
    "tags": []
   },
   "outputs": [],
   "source": [
    "test = test.drop(test.loc[(test.gene1.str[:3] == test.gene2.str[:3]) & (test.known!='Yes')].index)"
   ]
  },
  {
   "cell_type": "code",
   "execution_count": 355,
   "id": "3d2acd04-7ef7-45e3-87ac-a80ae38558ee",
   "metadata": {
    "tags": []
   },
   "outputs": [],
   "source": [
    "test_gene = split_get_n(test['fusion genes'],':',0).tolist()\n",
    "test_gene = test_gene + split_get_n(test['fusion genes'],':',1).tolist()"
   ]
  },
  {
   "cell_type": "code",
   "execution_count": 347,
   "id": "55459e9e-a63e-47a3-96a5-ddb3355f6ae2",
   "metadata": {
    "collapsed": true,
    "jupyter": {
     "outputs_hidden": true
    },
    "tags": []
   },
   "outputs": [
    {
     "data": {
      "text/html": [
       "<div>\n",
       "<style scoped>\n",
       "    .dataframe tbody tr th:only-of-type {\n",
       "        vertical-align: middle;\n",
       "    }\n",
       "\n",
       "    .dataframe tbody tr th {\n",
       "        vertical-align: top;\n",
       "    }\n",
       "\n",
       "    .dataframe thead th {\n",
       "        text-align: right;\n",
       "    }\n",
       "</style>\n",
       "<table border=\"1\" class=\"dataframe\">\n",
       "  <thead>\n",
       "    <tr style=\"text-align: right;\">\n",
       "      <th></th>\n",
       "      <th>sample</th>\n",
       "      <th>fusion genes</th>\n",
       "      <th>chrom1</th>\n",
       "      <th>base1</th>\n",
       "      <th>strand1</th>\n",
       "      <th>chrom2</th>\n",
       "      <th>base2</th>\n",
       "      <th>strand2</th>\n",
       "      <th>gap (kb)</th>\n",
       "      <th>spanning pairs</th>\n",
       "      <th>...</th>\n",
       "      <th>inframe</th>\n",
       "      <th>aligns</th>\n",
       "      <th>rearrangement</th>\n",
       "      <th>contig</th>\n",
       "      <th>contig break</th>\n",
       "      <th>classification</th>\n",
       "      <th>known</th>\n",
       "      <th>tissue</th>\n",
       "      <th>gene1</th>\n",
       "      <th>gene2</th>\n",
       "    </tr>\n",
       "  </thead>\n",
       "  <tbody>\n",
       "  </tbody>\n",
       "</table>\n",
       "<p>0 rows × 21 columns</p>\n",
       "</div>"
      ],
      "text/plain": [
       "Empty DataFrame\n",
       "Columns: [sample, fusion genes, chrom1, base1, strand1, chrom2, base2, strand2, gap (kb), spanning pairs, spanning reads, inframe, aligns, rearrangement, contig, contig break, classification, known, tissue, gene1, gene2]\n",
       "Index: []\n",
       "\n",
       "[0 rows x 21 columns]"
      ]
     },
     "execution_count": 347,
     "metadata": {},
     "output_type": "execute_result"
    }
   ],
   "source": [
    "test.loc[(test.gene1.str[:3] == test.gene2.str[:3]) & (test.known!='Yes')]"
   ]
  },
  {
   "cell_type": "code",
   "execution_count": 357,
   "id": "e26e39e5-d146-42b7-a83f-a6348980cec2",
   "metadata": {
    "tags": []
   },
   "outputs": [
    {
     "data": {
      "text/plain": [
       "4137"
      ]
     },
     "execution_count": 357,
     "metadata": {},
     "output_type": "execute_result"
    }
   ],
   "source": [
    "len(set(test_gene))"
   ]
  },
  {
   "cell_type": "code",
   "execution_count": 837,
   "id": "00c971db-a09e-4ae5-9339-089800cccaea",
   "metadata": {
    "tags": []
   },
   "outputs": [],
   "source": [
    "all_fusion_gene[all_fusion_gene.duplicated('fusion genes', keep=False)].sort_values('fusion genes').to_csv('/data1/HOMO_PANGENOME/DYY/data/fusion_gene/duplicated_genes_across_cancers.csv',sep='\\t',index=False)"
   ]
  },
  {
   "cell_type": "code",
   "execution_count": 625,
   "id": "610ea13d-8c80-4175-b5f3-4a5f49b69930",
   "metadata": {
    "tags": []
   },
   "outputs": [],
   "source": [
    "all_freq_df = all_fusion_gene[all_fusion_gene.duplicated('fusion genes',keep=False)].groupby('fusion genes').sum().reset_index()[['fusion genes','tissue_count']].rename(columns={'tissue_count':'all_count'})\n",
    "all_fusion_gene = all_fusion_gene.drop_duplicates('fusion genes').merge(all_freq_df,on='fusion genes',how='outer').fillna(1)\n",
    "all_fusion_gene.loc[:,'all_freq'] = all_fusion_gene['all_count']/175"
   ]
  },
  {
   "cell_type": "code",
   "execution_count": 873,
   "id": "60246442-e805-4754-8079-e849d5e0282c",
   "metadata": {},
   "outputs": [
    {
     "name": "stdout",
     "output_type": "stream",
     "text": [
      "1045\n",
      "373\n",
      "664\n",
      "1193\n",
      "727\n",
      "546\n",
      "783\n",
      "590\n",
      "1323\n",
      "936\n"
     ]
    }
   ],
   "source": [
    "for k in fusion_gene_dict.keys():\n",
    "    fusion_gene_dict[k].to_csv(f'/data1/HOMO_PANGENOME/DYY/data/fusion_gene/jaffal_for_filter/{k}.csv',sep='\\t',index=False)\n",
    "    print(len(fusion_gene_dict[k]))"
   ]
  },
  {
   "cell_type": "code",
   "execution_count": 675,
   "id": "1ffdee94-fcef-448a-b40e-ce00aa92d852",
   "metadata": {
    "tags": []
   },
   "outputs": [],
   "source": [
    "all_fusion_gene.to_csv(f'/data1/HOMO_PANGENOME/DYY/data/fusion_gene/jaffal/all_tissue.csv',sep='\\t',index=False)"
   ]
  },
  {
   "cell_type": "code",
   "execution_count": 445,
   "id": "89e07fbf-3fff-4c06-9cba-29e4503e6b13",
   "metadata": {},
   "outputs": [],
   "source": [
    "intersect_dict = {}\n",
    "for tissue in group.Sample.drop_duplicates():\n",
    "    fusion_filtered = fusion_gene_dict[tissue]\n",
    "    tf_database = tumorfusion_dict[tissue]\n",
    "    intersect_dict[tissue] = set(fusion_filtered['fusion genes']).intersection(set(tf_database['Gene_A']+':'+tf_database['Gene_B']))"
   ]
  },
  {
   "cell_type": "code",
   "execution_count": 78,
   "id": "cbc973dc-aa93-4b2c-a70f-a2686ef0ee10",
   "metadata": {},
   "outputs": [],
   "source": [
    "tumorfusion_dict = {}\n",
    "tumorfusion_dict['BRE'] = tumor_fusion_data.loc[tumor_fusion_data.Tissue.isin(['BRCA'])]\n",
    "tumorfusion_dict['STO'] = tumor_fusion_data.loc[tumor_fusion_data.Tissue.isin(['STAD'])]\n",
    "tumorfusion_dict['REC'] = tumor_fusion_data.loc[tumor_fusion_data.Tissue.isin(['READ'])]\n",
    "tumorfusion_dict['LUN'] = tumor_fusion_data.loc[tumor_fusion_data.Tissue.isin(['LUAD'])]\n",
    "tumorfusion_dict['CER'] = tumor_fusion_data.loc[tumor_fusion_data.Tissue.isin(['CESC'])]\n",
    "tumorfusion_dict['END'] = tumor_fusion_data.loc[tumor_fusion_data.Tissue.isin(['UCEC'])]\n",
    "tumorfusion_dict['LIV'] = tumor_fusion_data.loc[tumor_fusion_data.Tissue.isin(['LIHC'])]\n",
    "tumorfusion_dict['COL'] = tumor_fusion_data.loc[tumor_fusion_data.Tissue.isin(['COAD'])]\n",
    "tumorfusion_dict['BLA'] = tumor_fusion_data.loc[tumor_fusion_data.Tissue.isin(['BLCA'])]\n",
    "tumorfusion_dict['KID'] = tumor_fusion_data.loc[tumor_fusion_data.Tissue.isin(['KIRC','KIRP','KICH'])]\n",
    "# tumorfusion_dict['BRE'] = tumor_fusion_data.loc[tumor_fusion_data.Tissue.isin(['BRCA'])]"
   ]
  },
  {
   "cell_type": "code",
   "execution_count": 12,
   "id": "5ba4ea2c-0b4e-4871-9bd2-7600be2acc40",
   "metadata": {},
   "outputs": [],
   "source": [
    "tumorfusion_df = pd.concat(tumorfusion_dict.values())\n",
    "tumorfusion_df.loc[:,'fusion genes'] = tumorfusion_df['Gene_A']+\":\"+tumorfusion_df['Gene_B']"
   ]
  },
  {
   "cell_type": "code",
   "execution_count": 414,
   "id": "5d8615e2-289f-4ba9-9bba-1463303a4899",
   "metadata": {},
   "outputs": [],
   "source": [
    "intersect_dict = {}\n",
    "for tissue in group.Sample.drop_duplicates():\n",
    "    fusion_filtered = fusion_gene_dict[tissue]\n",
    "    tf_database = tumorfusion_dict[tissue]\n",
    "    # print(len(pd.DataFrame(tf_database['Gene_A']+'='+tf_database['Gene_B']).drop_duplicates().merge(fusion_filtered)))\n",
    "    fusion_gene_list1 = split_get_n(fusion_filtered['fusion genes'],':',0)\n",
    "    fusion_gene_list2 = split_get_n(fusion_filtered['fusion genes'],':',1)\n",
    "    fusion_gene_list_filtered = fusion_gene_list1.append(fusion_gene_list2)\n",
    "    fusion_gene_list1 = tf_database['Gene_A']\n",
    "    fusion_gene_list2 = tf_database['Gene_B']\n",
    "    fusion_gene_list_tf = fusion_gene_list1.append(fusion_gene_list2)\n",
    "    intersect_dict[tissue] = pd.DataFrame(set(fusion_gene_list_filtered)).merge(pd.DataFrame(set(fusion_gene_list_tf)))\n",
    "    # break"
   ]
  },
  {
   "cell_type": "code",
   "execution_count": 10,
   "id": "58525bba-7cd0-4be2-bae9-88f75dcbdbd2",
   "metadata": {
    "tags": []
   },
   "outputs": [
    {
     "name": "stdout",
     "output_type": "stream",
     "text": [
      "there is no fusion gene in A1902009D19TT1\n"
     ]
    },
    {
     "ename": "NameError",
     "evalue": "name 'split_get_n' is not defined",
     "output_type": "error",
     "traceback": [
      "\u001b[0;31m---------------------------------------------------------------------------\u001b[0m",
      "\u001b[0;31mNameError\u001b[0m                                 Traceback (most recent call last)",
      "\u001b[0;32m/tmp/ipykernel_1803301/3728807424.py\u001b[0m in \u001b[0;36m<module>\u001b[0;34m\u001b[0m\n\u001b[1;32m     19\u001b[0m         \u001b[0mfusion_gene_df\u001b[0m \u001b[0;34m=\u001b[0m \u001b[0mpd\u001b[0m\u001b[0;34m.\u001b[0m\u001b[0mconcat\u001b[0m\u001b[0;34m(\u001b[0m\u001b[0;34m[\u001b[0m\u001b[0mfusion_gene_df\u001b[0m\u001b[0;34m,\u001b[0m\u001b[0mfusion_data\u001b[0m\u001b[0;34m]\u001b[0m\u001b[0;34m)\u001b[0m\u001b[0;34m\u001b[0m\u001b[0;34m\u001b[0m\u001b[0m\n\u001b[1;32m     20\u001b[0m     \u001b[0;31m# fusion_gene_df = fusion_gene_df.drop_duplicates(1)\u001b[0m\u001b[0;34m\u001b[0m\u001b[0;34m\u001b[0m\u001b[0m\n\u001b[0;32m---> 21\u001b[0;31m     \u001b[0mfusion_gene_list1\u001b[0m \u001b[0;34m=\u001b[0m \u001b[0msplit_get_n\u001b[0m\u001b[0;34m(\u001b[0m\u001b[0mfusion_gene_df\u001b[0m\u001b[0;34m[\u001b[0m\u001b[0;36m1\u001b[0m\u001b[0;34m]\u001b[0m\u001b[0;34m,\u001b[0m\u001b[0;34m'='\u001b[0m\u001b[0;34m,\u001b[0m\u001b[0;36m0\u001b[0m\u001b[0;34m)\u001b[0m\u001b[0;34m\u001b[0m\u001b[0;34m\u001b[0m\u001b[0m\n\u001b[0m\u001b[1;32m     22\u001b[0m     \u001b[0mfusion_gene_list2\u001b[0m \u001b[0;34m=\u001b[0m \u001b[0msplit_get_n\u001b[0m\u001b[0;34m(\u001b[0m\u001b[0mfusion_gene_df\u001b[0m\u001b[0;34m[\u001b[0m\u001b[0;36m1\u001b[0m\u001b[0;34m]\u001b[0m\u001b[0;34m,\u001b[0m\u001b[0;34m'='\u001b[0m\u001b[0;34m,\u001b[0m\u001b[0;36m1\u001b[0m\u001b[0;34m)\u001b[0m\u001b[0;34m\u001b[0m\u001b[0;34m\u001b[0m\u001b[0m\n\u001b[1;32m     23\u001b[0m     \u001b[0;32mbreak\u001b[0m\u001b[0;34m\u001b[0m\u001b[0;34m\u001b[0m\u001b[0m\n",
      "\u001b[0;31mNameError\u001b[0m: name 'split_get_n' is not defined"
     ]
    }
   ],
   "source": [
    "tpm_path = '/data1/HOMO_PANGENOME/DYY/data/288_mstrg_tpm/'\n",
    "tpm_files = os.listdir(tpm_path)\n",
    "tpm_files = [x for x in tpm_files if x[-3:]=='csv']\n",
    "for t in tpm_files:\n",
    "    tpm_data = pd.read_csv(tpm_path+t,sep='\\t',index_col=0)\n",
    "    sample_id = tpm_data.loc[:,tpm_data.loc['Type']=='Tumor'].columns.tolist()\n",
    "    tissue = t[:3]\n",
    "    fusion_gene_df = pd.DataFrame()\n",
    "    for s in sample_id:\n",
    "        try:\n",
    "            fusion_data = fusion_dict[s]\n",
    "            # fusion_gene_list1 = split_get_n(fusion_data[1],'=',0)\n",
    "            # fusion_gene_list2 = split_get_n(fusion_data[1],'=',1)\n",
    "            # fusion_gene_list = set(fusion_gene_list1+fusion_gene_list2)\n",
    "        except:\n",
    "            print(f'there is no fusion gene in {s}')\n",
    "            fusion_data = pd.DataFrame()\n",
    "        # fusion_gene = pd.DataFrame(data=fusion_gene_list)\n",
    "        fusion_gene_df = pd.concat([fusion_gene_df,fusion_data])\n",
    "    # fusion_gene_df = fusion_gene_df.drop_duplicates(1)\n",
    "    fusion_gene_list1 = split_get_n(fusion_gene_df[1],'=',0)\n",
    "    fusion_gene_list2 = split_get_n(fusion_gene_df[1],'=',1)\n",
    "    break"
   ]
  },
  {
   "cell_type": "code",
   "execution_count": 89,
   "id": "99761108-bb32-4634-aee6-c0c52612ac8d",
   "metadata": {},
   "outputs": [],
   "source": [
    "fusion_gene = pd.concat(fusion_gene_dict).reset_index().set_index('tissue').drop(['level_0','level_1'],axis=1)\n",
    "recurrent_fusion_gene = fusion_gene[fusion_gene.duplicated(['fusion genes'], keep=False)]"
   ]
  },
  {
   "cell_type": "code",
   "execution_count": 150,
   "id": "93fdf5ae-aa08-435a-8ae5-a7876e88c315",
   "metadata": {
    "tags": []
   },
   "outputs": [],
   "source": [
    "# diff_base = recurrent_fusion_gene.drop_duplicates(['fusion genes','base1'])\n",
    "diff_base = recurrent_fusion_gene[~recurrent_fusion_gene['fusion genes'].str.contains('TRA')].sort_values('fusion genes')\n",
    "diff_base = diff_base[~diff_base['fusion genes'].str.contains('TRB')].sort_values('fusion genes')"
   ]
  },
  {
   "cell_type": "code",
   "execution_count": 151,
   "id": "0929ccdc-48c2-4bea-bfcf-fc67a0bed2ee",
   "metadata": {
    "tags": []
   },
   "outputs": [],
   "source": [
    "n=0\n",
    "dupl_df = pd.DataFrame()\n",
    "for g,r in diff_base.groupby('fusion genes'):\n",
    "    if (len(r.drop_duplicates('base1'))>1) & (len(r.reset_index().drop_duplicates('tissue'))>2):\n",
    "        n+=1\n",
    "        dupl_df = pd.concat([dupl_df,r])\n",
    "        # print(r)\n",
    "        # break"
   ]
  },
  {
   "cell_type": "code",
   "execution_count": 100,
   "id": "4693f0b2-687e-4e1e-b074-23c7865cba14",
   "metadata": {
    "collapsed": true,
    "jupyter": {
     "outputs_hidden": true
    },
    "tags": []
   },
   "outputs": [
    {
     "data": {
      "text/html": [
       "<div>\n",
       "<style scoped>\n",
       "    .dataframe tbody tr th:only-of-type {\n",
       "        vertical-align: middle;\n",
       "    }\n",
       "\n",
       "    .dataframe tbody tr th {\n",
       "        vertical-align: top;\n",
       "    }\n",
       "\n",
       "    .dataframe thead th {\n",
       "        text-align: right;\n",
       "    }\n",
       "</style>\n",
       "<table border=\"1\" class=\"dataframe\">\n",
       "  <thead>\n",
       "    <tr style=\"text-align: right;\">\n",
       "      <th></th>\n",
       "      <th>sample</th>\n",
       "      <th>fusion genes</th>\n",
       "      <th>chrom1</th>\n",
       "      <th>base1</th>\n",
       "      <th>strand1</th>\n",
       "      <th>chrom2</th>\n",
       "      <th>base2</th>\n",
       "      <th>strand2</th>\n",
       "      <th>gap (kb)</th>\n",
       "      <th>spanning pairs</th>\n",
       "      <th>spanning reads</th>\n",
       "      <th>inframe</th>\n",
       "      <th>aligns</th>\n",
       "      <th>rearrangement</th>\n",
       "      <th>contig</th>\n",
       "      <th>contig break</th>\n",
       "      <th>classification</th>\n",
       "      <th>known</th>\n",
       "    </tr>\n",
       "    <tr>\n",
       "      <th>tissue</th>\n",
       "      <th></th>\n",
       "      <th></th>\n",
       "      <th></th>\n",
       "      <th></th>\n",
       "      <th></th>\n",
       "      <th></th>\n",
       "      <th></th>\n",
       "      <th></th>\n",
       "      <th></th>\n",
       "      <th></th>\n",
       "      <th></th>\n",
       "      <th></th>\n",
       "      <th></th>\n",
       "      <th></th>\n",
       "      <th></th>\n",
       "      <th></th>\n",
       "      <th></th>\n",
       "      <th></th>\n",
       "    </tr>\n",
       "  </thead>\n",
       "  <tbody>\n",
       "    <tr>\n",
       "      <th>KID</th>\n",
       "      <td>A2102502rccTT1.qc</td>\n",
       "      <td>TRAV12-1:TRAJ9</td>\n",
       "      <td>chr14</td>\n",
       "      <td>21841768</td>\n",
       "      <td>+</td>\n",
       "      <td>chr14</td>\n",
       "      <td>22535558</td>\n",
       "      <td>+</td>\n",
       "      <td>693.790</td>\n",
       "      <td>0</td>\n",
       "      <td>8</td>\n",
       "      <td>NaN</td>\n",
       "      <td>False</td>\n",
       "      <td>False</td>\n",
       "      <td>2ae35759-02eb-4be4-8516-daa15579b54d</td>\n",
       "      <td>529</td>\n",
       "      <td>LowConfidence</td>\n",
       "      <td>-</td>\n",
       "    </tr>\n",
       "    <tr>\n",
       "      <th>KID</th>\n",
       "      <td>A2102502rccTT1.qc</td>\n",
       "      <td>TRAV13-1:TRAJ20</td>\n",
       "      <td>chr14</td>\n",
       "      <td>21869352</td>\n",
       "      <td>+</td>\n",
       "      <td>chr14</td>\n",
       "      <td>22524329</td>\n",
       "      <td>+</td>\n",
       "      <td>654.977</td>\n",
       "      <td>0</td>\n",
       "      <td>4</td>\n",
       "      <td>NaN</td>\n",
       "      <td>False</td>\n",
       "      <td>False</td>\n",
       "      <td>20c3c02b-a53c-413c-b0a0-34be81317a42</td>\n",
       "      <td>1171</td>\n",
       "      <td>LowConfidence</td>\n",
       "      <td>-</td>\n",
       "    </tr>\n",
       "    <tr>\n",
       "      <th>KID</th>\n",
       "      <td>A2102502rccTT1.qc</td>\n",
       "      <td>TRAV5:TRAJ3</td>\n",
       "      <td>chr14</td>\n",
       "      <td>21749698</td>\n",
       "      <td>+</td>\n",
       "      <td>chr14</td>\n",
       "      <td>22543185</td>\n",
       "      <td>+</td>\n",
       "      <td>793.487</td>\n",
       "      <td>0</td>\n",
       "      <td>3</td>\n",
       "      <td>NaN</td>\n",
       "      <td>False</td>\n",
       "      <td>False</td>\n",
       "      <td>a63cdc16-43fc-448f-84b5-1c464847d17d</td>\n",
       "      <td>1164</td>\n",
       "      <td>LowConfidence</td>\n",
       "      <td>-</td>\n",
       "    </tr>\n",
       "    <tr>\n",
       "      <th>KID</th>\n",
       "      <td>A2102502rccTT1.qc</td>\n",
       "      <td>TRAV27:TRAJ53</td>\n",
       "      <td>chr14</td>\n",
       "      <td>22148632</td>\n",
       "      <td>+</td>\n",
       "      <td>chr14</td>\n",
       "      <td>22483010</td>\n",
       "      <td>+</td>\n",
       "      <td>334.378</td>\n",
       "      <td>0</td>\n",
       "      <td>2</td>\n",
       "      <td>NaN</td>\n",
       "      <td>False</td>\n",
       "      <td>False</td>\n",
       "      <td>d77e931c-bcae-4ce0-aafd-fb4299fee35f</td>\n",
       "      <td>489</td>\n",
       "      <td>LowConfidence</td>\n",
       "      <td>-</td>\n",
       "    </tr>\n",
       "    <tr>\n",
       "      <th>KID</th>\n",
       "      <td>A2102502rccTT1.qc</td>\n",
       "      <td>TRAV13-1:TRAJ45</td>\n",
       "      <td>chr14</td>\n",
       "      <td>21869360</td>\n",
       "      <td>+</td>\n",
       "      <td>chr14</td>\n",
       "      <td>22493934</td>\n",
       "      <td>+</td>\n",
       "      <td>624.574</td>\n",
       "      <td>0</td>\n",
       "      <td>2</td>\n",
       "      <td>NaN</td>\n",
       "      <td>False</td>\n",
       "      <td>False</td>\n",
       "      <td>aba399c5-f342-4406-9222-d649178f9f62</td>\n",
       "      <td>1180</td>\n",
       "      <td>LowConfidence</td>\n",
       "      <td>-</td>\n",
       "    </tr>\n",
       "    <tr>\n",
       "      <th>...</th>\n",
       "      <td>...</td>\n",
       "      <td>...</td>\n",
       "      <td>...</td>\n",
       "      <td>...</td>\n",
       "      <td>...</td>\n",
       "      <td>...</td>\n",
       "      <td>...</td>\n",
       "      <td>...</td>\n",
       "      <td>...</td>\n",
       "      <td>...</td>\n",
       "      <td>...</td>\n",
       "      <td>...</td>\n",
       "      <td>...</td>\n",
       "      <td>...</td>\n",
       "      <td>...</td>\n",
       "      <td>...</td>\n",
       "      <td>...</td>\n",
       "      <td>...</td>\n",
       "    </tr>\n",
       "    <tr>\n",
       "      <th>BLA</th>\n",
       "      <td>A1901744PD1TT1.qc</td>\n",
       "      <td>TRAV3:TRAJ20</td>\n",
       "      <td>chr14</td>\n",
       "      <td>21724313</td>\n",
       "      <td>+</td>\n",
       "      <td>chr14</td>\n",
       "      <td>22524328</td>\n",
       "      <td>+</td>\n",
       "      <td>800.015</td>\n",
       "      <td>0</td>\n",
       "      <td>2</td>\n",
       "      <td>NaN</td>\n",
       "      <td>False</td>\n",
       "      <td>False</td>\n",
       "      <td>3eb5b06e-82c0-4fb9-970c-3f5d56b19cdb</td>\n",
       "      <td>600</td>\n",
       "      <td>LowConfidence</td>\n",
       "      <td>-</td>\n",
       "    </tr>\n",
       "    <tr>\n",
       "      <th>BLA</th>\n",
       "      <td>A1901744PD1TT1.qc</td>\n",
       "      <td>DDX5:TBCD</td>\n",
       "      <td>chr17</td>\n",
       "      <td>64506076</td>\n",
       "      <td>-</td>\n",
       "      <td>chr17</td>\n",
       "      <td>82900652</td>\n",
       "      <td>+</td>\n",
       "      <td>18394.576</td>\n",
       "      <td>0</td>\n",
       "      <td>2</td>\n",
       "      <td>NaN</td>\n",
       "      <td>False</td>\n",
       "      <td>True</td>\n",
       "      <td>39307a10-8135-4e73-a8b5-80bea6dce078</td>\n",
       "      <td>2305</td>\n",
       "      <td>LowConfidence</td>\n",
       "      <td>-</td>\n",
       "    </tr>\n",
       "    <tr>\n",
       "      <th>BLA</th>\n",
       "      <td>A1901744PD1TT1.qc</td>\n",
       "      <td>TAPBP:CEACAM5</td>\n",
       "      <td>chr6</td>\n",
       "      <td>33301023</td>\n",
       "      <td>-</td>\n",
       "      <td>chr19</td>\n",
       "      <td>41729457</td>\n",
       "      <td>+</td>\n",
       "      <td>inf</td>\n",
       "      <td>0</td>\n",
       "      <td>2</td>\n",
       "      <td>NaN</td>\n",
       "      <td>False</td>\n",
       "      <td>True</td>\n",
       "      <td>46c16cb6-4110-405f-a955-5b902746ee20</td>\n",
       "      <td>607</td>\n",
       "      <td>LowConfidence</td>\n",
       "      <td>-</td>\n",
       "    </tr>\n",
       "    <tr>\n",
       "      <th>BLA</th>\n",
       "      <td>A1901744PD1TT1.qc</td>\n",
       "      <td>RP11-1143G9.4:RP11-467H10.2</td>\n",
       "      <td>chr12</td>\n",
       "      <td>69353759</td>\n",
       "      <td>-</td>\n",
       "      <td>chr7</td>\n",
       "      <td>77195957</td>\n",
       "      <td>+</td>\n",
       "      <td>inf</td>\n",
       "      <td>0</td>\n",
       "      <td>2</td>\n",
       "      <td>NaN</td>\n",
       "      <td>False</td>\n",
       "      <td>True</td>\n",
       "      <td>5c3067a1-21aa-4aa8-8997-f05a6cc2b09b</td>\n",
       "      <td>1747</td>\n",
       "      <td>LowConfidence</td>\n",
       "      <td>-</td>\n",
       "    </tr>\n",
       "    <tr>\n",
       "      <th>BLA</th>\n",
       "      <td>A1901744PD1TT1.qc</td>\n",
       "      <td>RP11-1143G9.4:CD68</td>\n",
       "      <td>chr12</td>\n",
       "      <td>69353778</td>\n",
       "      <td>-</td>\n",
       "      <td>chr17</td>\n",
       "      <td>7579923</td>\n",
       "      <td>+</td>\n",
       "      <td>inf</td>\n",
       "      <td>0</td>\n",
       "      <td>2</td>\n",
       "      <td>NaN</td>\n",
       "      <td>False</td>\n",
       "      <td>True</td>\n",
       "      <td>3de28900-118a-4ab5-8354-e4527e658d6c</td>\n",
       "      <td>643</td>\n",
       "      <td>LowConfidence</td>\n",
       "      <td>-</td>\n",
       "    </tr>\n",
       "  </tbody>\n",
       "</table>\n",
       "<p>1506 rows × 18 columns</p>\n",
       "</div>"
      ],
      "text/plain": [
       "                   sample                 fusion genes chrom1     base1  \\\n",
       "tissue                                                                    \n",
       "KID     A2102502rccTT1.qc               TRAV12-1:TRAJ9  chr14  21841768   \n",
       "KID     A2102502rccTT1.qc              TRAV13-1:TRAJ20  chr14  21869352   \n",
       "KID     A2102502rccTT1.qc                  TRAV5:TRAJ3  chr14  21749698   \n",
       "KID     A2102502rccTT1.qc                TRAV27:TRAJ53  chr14  22148632   \n",
       "KID     A2102502rccTT1.qc              TRAV13-1:TRAJ45  chr14  21869360   \n",
       "...                   ...                          ...    ...       ...   \n",
       "BLA     A1901744PD1TT1.qc                 TRAV3:TRAJ20  chr14  21724313   \n",
       "BLA     A1901744PD1TT1.qc                    DDX5:TBCD  chr17  64506076   \n",
       "BLA     A1901744PD1TT1.qc                TAPBP:CEACAM5   chr6  33301023   \n",
       "BLA     A1901744PD1TT1.qc  RP11-1143G9.4:RP11-467H10.2  chr12  69353759   \n",
       "BLA     A1901744PD1TT1.qc           RP11-1143G9.4:CD68  chr12  69353778   \n",
       "\n",
       "       strand1 chrom2     base2 strand2   gap (kb)  spanning pairs  \\\n",
       "tissue                                                               \n",
       "KID          +  chr14  22535558       +    693.790               0   \n",
       "KID          +  chr14  22524329       +    654.977               0   \n",
       "KID          +  chr14  22543185       +    793.487               0   \n",
       "KID          +  chr14  22483010       +    334.378               0   \n",
       "KID          +  chr14  22493934       +    624.574               0   \n",
       "...        ...    ...       ...     ...        ...             ...   \n",
       "BLA          +  chr14  22524328       +    800.015               0   \n",
       "BLA          -  chr17  82900652       +  18394.576               0   \n",
       "BLA          -  chr19  41729457       +        inf               0   \n",
       "BLA          -   chr7  77195957       +        inf               0   \n",
       "BLA          -  chr17   7579923       +        inf               0   \n",
       "\n",
       "        spanning reads inframe  aligns  rearrangement  \\\n",
       "tissue                                                  \n",
       "KID                  8     NaN   False          False   \n",
       "KID                  4     NaN   False          False   \n",
       "KID                  3     NaN   False          False   \n",
       "KID                  2     NaN   False          False   \n",
       "KID                  2     NaN   False          False   \n",
       "...                ...     ...     ...            ...   \n",
       "BLA                  2     NaN   False          False   \n",
       "BLA                  2     NaN   False           True   \n",
       "BLA                  2     NaN   False           True   \n",
       "BLA                  2     NaN   False           True   \n",
       "BLA                  2     NaN   False           True   \n",
       "\n",
       "                                      contig  contig break classification  \\\n",
       "tissue                                                                      \n",
       "KID     2ae35759-02eb-4be4-8516-daa15579b54d           529  LowConfidence   \n",
       "KID     20c3c02b-a53c-413c-b0a0-34be81317a42          1171  LowConfidence   \n",
       "KID     a63cdc16-43fc-448f-84b5-1c464847d17d          1164  LowConfidence   \n",
       "KID     d77e931c-bcae-4ce0-aafd-fb4299fee35f           489  LowConfidence   \n",
       "KID     aba399c5-f342-4406-9222-d649178f9f62          1180  LowConfidence   \n",
       "...                                      ...           ...            ...   \n",
       "BLA     3eb5b06e-82c0-4fb9-970c-3f5d56b19cdb           600  LowConfidence   \n",
       "BLA     39307a10-8135-4e73-a8b5-80bea6dce078          2305  LowConfidence   \n",
       "BLA     46c16cb6-4110-405f-a955-5b902746ee20           607  LowConfidence   \n",
       "BLA     5c3067a1-21aa-4aa8-8997-f05a6cc2b09b          1747  LowConfidence   \n",
       "BLA     3de28900-118a-4ab5-8354-e4527e658d6c           643  LowConfidence   \n",
       "\n",
       "       known  \n",
       "tissue        \n",
       "KID        -  \n",
       "KID        -  \n",
       "KID        -  \n",
       "KID        -  \n",
       "KID        -  \n",
       "...      ...  \n",
       "BLA        -  \n",
       "BLA        -  \n",
       "BLA        -  \n",
       "BLA        -  \n",
       "BLA        -  \n",
       "\n",
       "[1506 rows x 18 columns]"
      ]
     },
     "execution_count": 100,
     "metadata": {},
     "output_type": "execute_result"
    }
   ],
   "source": [
    "recurrent_fusion_gene"
   ]
  },
  {
   "cell_type": "code",
   "execution_count": null,
   "id": "bf5eac9d-ce82-4340-8ed5-ec6cf373faa5",
   "metadata": {},
   "outputs": [],
   "source": []
  }
 ],
 "metadata": {
  "kernelspec": {
   "display_name": "Python 3 (ipykernel)",
   "language": "python",
   "name": "python3"
  },
  "language_info": {
   "codemirror_mode": {
    "name": "ipython",
    "version": 3
   },
   "file_extension": ".py",
   "mimetype": "text/x-python",
   "name": "python",
   "nbconvert_exporter": "python",
   "pygments_lexer": "ipython3",
   "version": "3.11.0"
  }
 },
 "nbformat": 4,
 "nbformat_minor": 5
}
