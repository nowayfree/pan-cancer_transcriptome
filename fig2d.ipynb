{
 "cells": [
  {
   "cell_type": "code",
   "execution_count": 1,
   "id": "157f1ec9-8258-49e2-b515-1cb1e3567e89",
   "metadata": {},
   "outputs": [],
   "source": [
    "import pandas as pd\n",
    "import numpy as np\n",
    "import os\n",
    "from plotnine import *\n",
    "import matplotlib.pyplot as plt"
   ]
  },
  {
   "cell_type": "code",
   "execution_count": 99,
   "id": "36eae1a5-2f35-48d6-9baa-bf4f51b48b1d",
   "metadata": {},
   "outputs": [],
   "source": [
    "import warnings \n",
    "warnings.filterwarnings('ignore')"
   ]
  },
  {
   "cell_type": "code",
   "execution_count": 51,
   "id": "3cdf9ced-5ab7-43d5-9fec-b1216f36aeb7",
   "metadata": {},
   "outputs": [],
   "source": [
    "def alt_sign(x):\n",
    "    \"Alternate +1/-1 if x is even/odd\"\n",
    "    return (-1) ** x\n",
    "def vio_box_line_plot(data,gene,lsize = 0.5,fill_alpha = 0.6, shift = 0.1):\n",
    "    m1 = aes(x=stage('Type', after_scale='x+shift*alt_sign(x)'), fill='Type')              # shift outward\n",
    "    m2 = aes(x=stage('Type', after_scale='x-shift*alt_sign(x)'), group='Sample ID', color = 'Sample')   # shift inward\n",
    "    # plotnine.scales.scale_color_cmap(cmap_name='tab20', lut=None)\n",
    "    \n",
    "    fig = (ggplot(data, aes('Type', gene))\n",
    "     + geom_violin(m1, style='left-right', draw_quantiles = [0.25,0.5,0.75], \n",
    "                   alpha=fill_alpha, size=lsize, color='#57606f')\n",
    "     + geom_point(m2, alpha=fill_alpha, size=lsize)\n",
    "     + geom_line(m2, size=lsize, alpha=fill_alpha)\n",
    "     + geom_boxplot(aes(fill='Type'), width=shift, alpha=fill_alpha, size=lsize, show_legend=False, color='#57606f')\n",
    "     + scale_fill_manual([\"#FF5051\",\"#CAE8F2\"])\n",
    "     + theme_classic()\n",
    "     # + scale_color_manual(values = c(\"red\",\"cyan\",\"green\",\"magenta\",\"blue\",\"yellow\",\"orange\",\"teal\",\"purple\",\"brown\"))\n",
    "#      + scale_color_manual([\"#287271\",\"#8AB07D\",\"#E8A261\",\"#FF5051\",\"#3951A2\",\n",
    "# \"#CAE8F2\",\"#91D542\",\"#F6E620\",\"#780096\",\"#CC4996\"])\n",
    "    + scale_color_manual([\"#bcbd22\",\"#7f7f7f\",\"#9467bd\",\"#1f77b4\",\"#8c564b\",\n",
    "\"#17becf\",\"#e377c2\",\"#d62728\",\"#2ca02c\",\"#ff7f0e\"])\n",
    "     # + scale_color_hue(h.start = 90)\n",
    "     # + scale_color_cmap(cmap_name='RdYlGn')\n",
    "     + theme(figure_size=(8, 6))\n",
    "    )\n",
    "    return fig"
   ]
  },
  {
   "cell_type": "code",
   "execution_count": 95,
   "id": "4359cc60-00ae-468f-b12e-a43789de2f99",
   "metadata": {},
   "outputs": [],
   "source": [
    "def test(data,gene,lsize = 0.5,fill_alpha = 0.6, shift = 0.1, psize=0.6):\n",
    "    m1 = aes(x=stage('Type', after_scale='x+shift*alt_sign(x)'), fill='Type')              # shift outward\n",
    "    m2 = aes(x=stage('Type', after_scale='x-shift*alt_sign(x)'), group='Sample ID', color = 'Sample')   # shift inward\n",
    "    # plotnine.scales.scale_color_cmap(cmap_name='tab20', lut=None)\n",
    "    #data, aes('Type', gene)\n",
    "    fig = (ggplot()\n",
    "     + geom_violin(data, aes('Type',gene,fill='Type'),style='left-right', alpha=fill_alpha,draw_quantiles = [0.25,0.5,0.75], size=lsize, color='#57606f')\n",
    "     + geom_point(data, aes('Type',gene,group='Sample ID',color='Sample'), alpha=fill_alpha, size=psize)\n",
    "     + geom_line(data, aes('Type',gene,group='Sample ID',color='Sample'), size=lsize, alpha=fill_alpha)\n",
    "     # + geom_boxplot(aes(fill='Type'), width=shift, alpha=fill_alpha, size=lsize, show_legend=False, color='#57606f')\n",
    "     + scale_fill_manual([\"#FF5051\",\"#CAE8F2\"])\n",
    "     + theme_classic()\n",
    "     # + scale_color_manual(values = c(\"red\",\"cyan\",\"green\",\"magenta\",\"blue\",\"yellow\",\"orange\",\"teal\",\"purple\",\"brown\"))\n",
    "     + scale_color_manual([\"#bebf28\",\"#7f7f7f\",\"#9467bd\",\"#2372A9\",\"#8c564b\",\n",
    "\"#4fcdd7\",\"#e377c2\",\"#d62728\",\"#2ca02c\",\"#ff7f0e\"])\n",
    "     # + scale_color_hue(h.start = 90)\n",
    "     # + scale_color_cmap(cmap_name='RdYlGn')\n",
    "     + theme(figure_size=(8, 6))\n",
    "    )\n",
    "    return fig"
   ]
  },
  {
   "cell_type": "code",
   "execution_count": 54,
   "id": "4463960c-70e1-4d40-a310-6dd80d57c8f8",
   "metadata": {},
   "outputs": [],
   "source": [
    "group = pd.read_csv('/data1/DYY/bambu/288_group.csv',sep='\\t')\n",
    "fdr_data = pd.read_csv('/data1/DYY/bambu/288_FDR/all_gene.csv', sep='\\t').drop(['p_adjust','P_value'], axis=1).T\n",
    "fdr_df = fdr_data.reset_index().rename(columns={'index':'name'}).merge(group).set_index('name').sort_values('Sample ID')"
   ]
  },
  {
   "cell_type": "code",
   "execution_count": 66,
   "id": "1055a507-33bf-4bf3-9465-bbcf8803ecd3",
   "metadata": {},
   "outputs": [],
   "source": [
    "std = fdr_df.loc[fdr_df.Type=='Tumor'].drop(['Type','Sample ID'],axis=1).std()-fdr_df.loc[fdr_df.Type=='Normal'].drop(['Type','Sample ID'],axis=1).std()"
   ]
  },
  {
   "cell_type": "code",
   "execution_count": 74,
   "id": "9c9ea1d3-1b03-4812-85ac-eb667b348604",
   "metadata": {},
   "outputs": [],
   "source": [
    "fdr_df = fdr_df.T.drop(['Type','Sample ID'])"
   ]
  },
  {
   "cell_type": "code",
   "execution_count": 78,
   "id": "5547f40b-a34c-424a-a313-841bd952acc5",
   "metadata": {},
   "outputs": [],
   "source": [
    "fdr_df.loc[:,'std'] = std"
   ]
  },
  {
   "cell_type": "code",
   "execution_count": 83,
   "id": "d6970fd0-ccfa-405a-b1b0-0998f8e30a6b",
   "metadata": {},
   "outputs": [],
   "source": [
    "df = fdr_df.copy()"
   ]
  },
  {
   "cell_type": "code",
   "execution_count": 112,
   "id": "3ed21799-7043-4f12-911c-e8983938cdd5",
   "metadata": {},
   "outputs": [],
   "source": [
    "df = df.astype(float)"
   ]
  },
  {
   "cell_type": "code",
   "execution_count": 114,
   "id": "80b3a5f1-0949-4577-ac07-0bac2c14b539",
   "metadata": {},
   "outputs": [],
   "source": [
    "data = df.T.reset_index().rename(columns={'index':'name'})\n",
    "\n",
    "\n",
    "data = pd.merge(data, group, on='name')\n",
    "data.loc[:,'Sample'] = data['Sample ID'].str[:3]\n",
    "# data1 = pd.merge(data1, group, on='name')"
   ]
  },
  {
   "cell_type": "code",
   "execution_count": 324,
   "id": "8f703d32-c782-42ff-9da9-ba9219402311",
   "metadata": {},
   "outputs": [],
   "source": [
    "\n",
    "# plt.title('C19orf48')\n",
    "p = vio_box_line_plot(data,'ENSG00000167747.17')\n",
    "plt.savefig('/data1/DYY/bambu/plot/figure2/2d_down.pdf',dpi=400)"
   ]
  },
  {
   "cell_type": "code",
   "execution_count": 328,
   "id": "fa499c38-5948-4c6e-bedd-b40bed9ee360",
   "metadata": {},
   "outputs": [],
   "source": [
    "p.save('/data1/DYY/bambu/plot/figure2/2d_down.pdf',dpi=400)"
   ]
  },
  {
   "cell_type": "code",
   "execution_count": 322,
   "id": "850ab5cd-35cd-4792-be0c-2180bb14d297",
   "metadata": {},
   "outputs": [],
   "source": [
    "vio_box_line_plot(data,'ENSG00000167747.17')\n",
    "plt.savefig('/data1/DYY/bambu/plot/figure2/2d_down.pdf',dpi=400)"
   ]
  },
  {
   "cell_type": "code",
   "execution_count": 244,
   "id": "7be122b9-c48a-4ede-b470-4758a1871387",
   "metadata": {},
   "outputs": [],
   "source": [
    "deseq = pd.read_csv('/data1/DYY/bambu/288_count_matrix_deseq2/all_result.csv',sep='\\t')"
   ]
  },
  {
   "cell_type": "code",
   "execution_count": 128,
   "id": "e100244f-b178-4048-857a-d7ee9d075a4a",
   "metadata": {},
   "outputs": [],
   "source": [
    "deseq = deseq.loc[deseq.padj<0.05]"
   ]
  },
  {
   "cell_type": "code",
   "execution_count": 130,
   "id": "a92e20aa-d7d8-4c56-8ed2-cda90b027898",
   "metadata": {},
   "outputs": [
    {
     "data": {
      "text/html": [
       "<div>\n",
       "<style scoped>\n",
       "    .dataframe tbody tr th:only-of-type {\n",
       "        vertical-align: middle;\n",
       "    }\n",
       "\n",
       "    .dataframe tbody tr th {\n",
       "        vertical-align: top;\n",
       "    }\n",
       "\n",
       "    .dataframe thead th {\n",
       "        text-align: right;\n",
       "    }\n",
       "</style>\n",
       "<table border=\"1\" class=\"dataframe\">\n",
       "  <thead>\n",
       "    <tr style=\"text-align: right;\">\n",
       "      <th></th>\n",
       "      <th>row</th>\n",
       "      <th>baseMean</th>\n",
       "      <th>log2FoldChange</th>\n",
       "      <th>lfcSE</th>\n",
       "      <th>stat</th>\n",
       "      <th>pvalue</th>\n",
       "      <th>padj</th>\n",
       "    </tr>\n",
       "  </thead>\n",
       "  <tbody>\n",
       "    <tr>\n",
       "      <th>2</th>\n",
       "      <td>BambuGene100001</td>\n",
       "      <td>8.283040</td>\n",
       "      <td>0.607993</td>\n",
       "      <td>0.121933</td>\n",
       "      <td>4.986303</td>\n",
       "      <td>6.154548e-07</td>\n",
       "      <td>0.000009</td>\n",
       "    </tr>\n",
       "    <tr>\n",
       "      <th>4</th>\n",
       "      <td>BambuGene100010</td>\n",
       "      <td>7.614386</td>\n",
       "      <td>1.071566</td>\n",
       "      <td>0.201297</td>\n",
       "      <td>5.323301</td>\n",
       "      <td>1.019009e-07</td>\n",
       "      <td>0.000002</td>\n",
       "    </tr>\n",
       "    <tr>\n",
       "      <th>9</th>\n",
       "      <td>BambuGene100063</td>\n",
       "      <td>8.204087</td>\n",
       "      <td>0.551757</td>\n",
       "      <td>0.116818</td>\n",
       "      <td>4.723226</td>\n",
       "      <td>2.321331e-06</td>\n",
       "      <td>0.000030</td>\n",
       "    </tr>\n",
       "    <tr>\n",
       "      <th>13</th>\n",
       "      <td>BambuGene100083</td>\n",
       "      <td>6.574575</td>\n",
       "      <td>0.594125</td>\n",
       "      <td>0.161961</td>\n",
       "      <td>3.668325</td>\n",
       "      <td>2.441450e-04</td>\n",
       "      <td>0.001781</td>\n",
       "    </tr>\n",
       "    <tr>\n",
       "      <th>19</th>\n",
       "      <td>BambuGene100154</td>\n",
       "      <td>12.975198</td>\n",
       "      <td>-0.271564</td>\n",
       "      <td>0.086362</td>\n",
       "      <td>-3.144478</td>\n",
       "      <td>1.663833e-03</td>\n",
       "      <td>0.009253</td>\n",
       "    </tr>\n",
       "    <tr>\n",
       "      <th>...</th>\n",
       "      <td>...</td>\n",
       "      <td>...</td>\n",
       "      <td>...</td>\n",
       "      <td>...</td>\n",
       "      <td>...</td>\n",
       "      <td>...</td>\n",
       "      <td>...</td>\n",
       "    </tr>\n",
       "    <tr>\n",
       "      <th>76805</th>\n",
       "      <td>ENSG00000291152.1</td>\n",
       "      <td>50.940436</td>\n",
       "      <td>-0.732595</td>\n",
       "      <td>0.221466</td>\n",
       "      <td>-3.307926</td>\n",
       "      <td>9.398950e-04</td>\n",
       "      <td>0.005711</td>\n",
       "    </tr>\n",
       "    <tr>\n",
       "      <th>76823</th>\n",
       "      <td>ENSG00000291173.1</td>\n",
       "      <td>16.778196</td>\n",
       "      <td>-0.540386</td>\n",
       "      <td>0.129577</td>\n",
       "      <td>-4.170386</td>\n",
       "      <td>3.040842e-05</td>\n",
       "      <td>0.000291</td>\n",
       "    </tr>\n",
       "    <tr>\n",
       "      <th>76830</th>\n",
       "      <td>ENSG00000291180.1</td>\n",
       "      <td>1.205464</td>\n",
       "      <td>-1.086423</td>\n",
       "      <td>0.332985</td>\n",
       "      <td>-3.262674</td>\n",
       "      <td>1.103663e-03</td>\n",
       "      <td>0.006544</td>\n",
       "    </tr>\n",
       "    <tr>\n",
       "      <th>76884</th>\n",
       "      <td>ENSG00000291234.1</td>\n",
       "      <td>9.856599</td>\n",
       "      <td>0.843879</td>\n",
       "      <td>0.315221</td>\n",
       "      <td>2.677106</td>\n",
       "      <td>7.426119e-03</td>\n",
       "      <td>0.031734</td>\n",
       "    </tr>\n",
       "    <tr>\n",
       "      <th>76903</th>\n",
       "      <td>ENSG00000291255.1</td>\n",
       "      <td>0.486446</td>\n",
       "      <td>-1.593487</td>\n",
       "      <td>0.446392</td>\n",
       "      <td>-3.569702</td>\n",
       "      <td>3.573878e-04</td>\n",
       "      <td>0.002485</td>\n",
       "    </tr>\n",
       "  </tbody>\n",
       "</table>\n",
       "<p>6232 rows × 7 columns</p>\n",
       "</div>"
      ],
      "text/plain": [
       "                     row   baseMean  log2FoldChange     lfcSE      stat  \\\n",
       "2        BambuGene100001   8.283040        0.607993  0.121933  4.986303   \n",
       "4        BambuGene100010   7.614386        1.071566  0.201297  5.323301   \n",
       "9        BambuGene100063   8.204087        0.551757  0.116818  4.723226   \n",
       "13       BambuGene100083   6.574575        0.594125  0.161961  3.668325   \n",
       "19       BambuGene100154  12.975198       -0.271564  0.086362 -3.144478   \n",
       "...                  ...        ...             ...       ...       ...   \n",
       "76805  ENSG00000291152.1  50.940436       -0.732595  0.221466 -3.307926   \n",
       "76823  ENSG00000291173.1  16.778196       -0.540386  0.129577 -4.170386   \n",
       "76830  ENSG00000291180.1   1.205464       -1.086423  0.332985 -3.262674   \n",
       "76884  ENSG00000291234.1   9.856599        0.843879  0.315221  2.677106   \n",
       "76903  ENSG00000291255.1   0.486446       -1.593487  0.446392 -3.569702   \n",
       "\n",
       "             pvalue      padj  \n",
       "2      6.154548e-07  0.000009  \n",
       "4      1.019009e-07  0.000002  \n",
       "9      2.321331e-06  0.000030  \n",
       "13     2.441450e-04  0.001781  \n",
       "19     1.663833e-03  0.009253  \n",
       "...             ...       ...  \n",
       "76805  9.398950e-04  0.005711  \n",
       "76823  3.040842e-05  0.000291  \n",
       "76830  1.103663e-03  0.006544  \n",
       "76884  7.426119e-03  0.031734  \n",
       "76903  3.573878e-04  0.002485  \n",
       "\n",
       "[6232 rows x 7 columns]"
      ]
     },
     "execution_count": 130,
     "metadata": {},
     "output_type": "execute_result"
    }
   ],
   "source": [
    "deseq"
   ]
  },
  {
   "cell_type": "code",
   "execution_count": 304,
   "id": "03c9a99c-6431-42b5-956b-91ac6b2388d5",
   "metadata": {},
   "outputs": [
    {
     "data": {
      "text/html": [
       "<div>\n",
       "<style scoped>\n",
       "    .dataframe tbody tr th:only-of-type {\n",
       "        vertical-align: middle;\n",
       "    }\n",
       "\n",
       "    .dataframe tbody tr th {\n",
       "        vertical-align: top;\n",
       "    }\n",
       "\n",
       "    .dataframe thead th {\n",
       "        text-align: right;\n",
       "    }\n",
       "</style>\n",
       "<table border=\"1\" class=\"dataframe\">\n",
       "  <thead>\n",
       "    <tr style=\"text-align: right;\">\n",
       "      <th></th>\n",
       "      <th>0</th>\n",
       "    </tr>\n",
       "  </thead>\n",
       "  <tbody>\n",
       "    <tr>\n",
       "      <th>22</th>\n",
       "      <td>ENSG00000167747.17</td>\n",
       "    </tr>\n",
       "  </tbody>\n",
       "</table>\n",
       "</div>"
      ],
      "text/plain": [
       "                     0\n",
       "22  ENSG00000167747.17"
      ]
     },
     "execution_count": 304,
     "metadata": {},
     "output_type": "execute_result"
    }
   ],
   "source": [
    "sca.loc[sca[0]=='ENSG00000167747.17']"
   ]
  },
  {
   "cell_type": "code",
   "execution_count": 138,
   "id": "cb88a0ff-1e3d-457f-afa4-19cc120aba00",
   "metadata": {},
   "outputs": [],
   "source": [
    "deseq_non = deseq.loc[(deseq.log2FoldChange>-1) & (deseq.log2FoldChange<1)]"
   ]
  },
  {
   "cell_type": "code",
   "execution_count": 294,
   "id": "73cb04bc-3f00-4f67-a4f0-0dfbdea7dc56",
   "metadata": {},
   "outputs": [
    {
     "data": {
      "text/html": [
       "<div>\n",
       "<style scoped>\n",
       "    .dataframe tbody tr th:only-of-type {\n",
       "        vertical-align: middle;\n",
       "    }\n",
       "\n",
       "    .dataframe tbody tr th {\n",
       "        vertical-align: top;\n",
       "    }\n",
       "\n",
       "    .dataframe thead th {\n",
       "        text-align: right;\n",
       "    }\n",
       "</style>\n",
       "<table border=\"1\" class=\"dataframe\">\n",
       "  <thead>\n",
       "    <tr style=\"text-align: right;\">\n",
       "      <th></th>\n",
       "      <th>row</th>\n",
       "      <th>baseMean</th>\n",
       "      <th>log2FoldChange</th>\n",
       "      <th>lfcSE</th>\n",
       "      <th>stat</th>\n",
       "      <th>pvalue</th>\n",
       "      <th>padj</th>\n",
       "    </tr>\n",
       "  </thead>\n",
       "  <tbody>\n",
       "    <tr>\n",
       "      <th>26428</th>\n",
       "      <td>ENSG00000167747.17</td>\n",
       "      <td>113.194071</td>\n",
       "      <td>0.968807</td>\n",
       "      <td>0.091358</td>\n",
       "      <td>10.604562</td>\n",
       "      <td>2.837898e-26</td>\n",
       "      <td>1.746544e-23</td>\n",
       "    </tr>\n",
       "  </tbody>\n",
       "</table>\n",
       "</div>"
      ],
      "text/plain": [
       "                      row    baseMean  log2FoldChange     lfcSE       stat  \\\n",
       "26428  ENSG00000167747.17  113.194071        0.968807  0.091358  10.604562   \n",
       "\n",
       "             pvalue          padj  \n",
       "26428  2.837898e-26  1.746544e-23  "
      ]
     },
     "execution_count": 294,
     "metadata": {},
     "output_type": "execute_result"
    }
   ],
   "source": [
    "deseq_non.loc[deseq_non['row']=='ENSG00000167747.17']"
   ]
  },
  {
   "cell_type": "code",
   "execution_count": 16,
   "id": "084127ea-fa91-4953-8cc6-178f8981d620",
   "metadata": {},
   "outputs": [],
   "source": [
    "desgene = pd.read_csv('/data1/DYY/bambu/288_count_matrix_deseq2/all_norm.counts.fn',sep='\\t')#.drop('gene_name',axis=1).set_index(['ensg'])"
   ]
  },
  {
   "cell_type": "code",
   "execution_count": 22,
   "id": "7bfe3c2a-2392-48cf-9f2f-34ab4987ed65",
   "metadata": {},
   "outputs": [],
   "source": [
    "gene_name = pd.read_csv('/data1/DYY/data/ensg_gene_name.csv',sep='\\t' ).drop_duplicates()"
   ]
  },
  {
   "cell_type": "code",
   "execution_count": 296,
   "id": "ed8bd496-ec9d-40df-a44c-0a2076b95f21",
   "metadata": {},
   "outputs": [
    {
     "data": {
      "text/html": [
       "<div>\n",
       "<style scoped>\n",
       "    .dataframe tbody tr th:only-of-type {\n",
       "        vertical-align: middle;\n",
       "    }\n",
       "\n",
       "    .dataframe tbody tr th {\n",
       "        vertical-align: top;\n",
       "    }\n",
       "\n",
       "    .dataframe thead th {\n",
       "        text-align: right;\n",
       "    }\n",
       "</style>\n",
       "<table border=\"1\" class=\"dataframe\">\n",
       "  <thead>\n",
       "    <tr style=\"text-align: right;\">\n",
       "      <th></th>\n",
       "      <th>1</th>\n",
       "      <th>7</th>\n",
       "    </tr>\n",
       "  </thead>\n",
       "  <tbody>\n",
       "    <tr>\n",
       "      <th>226216</th>\n",
       "      <td>ENSG00000167747.17</td>\n",
       "      <td>C19orf48</td>\n",
       "    </tr>\n",
       "  </tbody>\n",
       "</table>\n",
       "</div>"
      ],
      "text/plain": [
       "                         1         7\n",
       "226216  ENSG00000167747.17  C19orf48"
      ]
     },
     "execution_count": 296,
     "metadata": {},
     "output_type": "execute_result"
    }
   ],
   "source": [
    "gene_name.loc[gene_name['1']=='ENSG00000167747.17']"
   ]
  },
  {
   "cell_type": "code",
   "execution_count": 31,
   "id": "929657cc-eb71-450a-b15a-3a195caa9ac3",
   "metadata": {},
   "outputs": [],
   "source": [
    "conv = pd.read_csv('/data1/DYY/bambu/288_conver_scatt_gene_all_tis/all_con.txt',sep='\\t',header=None)"
   ]
  },
  {
   "cell_type": "code",
   "execution_count": 39,
   "id": "2cc18e5a-c8c2-4f41-bf4d-f227c0834f6f",
   "metadata": {},
   "outputs": [],
   "source": [
    "sca = pd.read_csv('/data1/DYY/bambu/288_conver_scatt_gene_all_tis/all_sca.txt',sep='\\t',header=None)"
   ]
  },
  {
   "cell_type": "code",
   "execution_count": 35,
   "id": "9049aef5-dfe6-439e-8484-6fa61b467854",
   "metadata": {},
   "outputs": [
    {
     "data": {
      "text/html": [
       "<div>\n",
       "<style scoped>\n",
       "    .dataframe tbody tr th:only-of-type {\n",
       "        vertical-align: middle;\n",
       "    }\n",
       "\n",
       "    .dataframe tbody tr th {\n",
       "        vertical-align: top;\n",
       "    }\n",
       "\n",
       "    .dataframe thead th {\n",
       "        text-align: right;\n",
       "    }\n",
       "</style>\n",
       "<table border=\"1\" class=\"dataframe\">\n",
       "  <thead>\n",
       "    <tr style=\"text-align: right;\">\n",
       "      <th></th>\n",
       "      <th>0</th>\n",
       "    </tr>\n",
       "  </thead>\n",
       "  <tbody>\n",
       "    <tr>\n",
       "      <th>930</th>\n",
       "      <td>ENSG00000163586.10</td>\n",
       "    </tr>\n",
       "  </tbody>\n",
       "</table>\n",
       "</div>"
      ],
      "text/plain": [
       "                      0\n",
       "930  ENSG00000163586.10"
      ]
     },
     "execution_count": 35,
     "metadata": {},
     "output_type": "execute_result"
    }
   ],
   "source": [
    "conv.loc[conv[0]=='']"
   ]
  },
  {
   "cell_type": "code",
   "execution_count": 41,
   "id": "1de7f390-85b7-45dd-afaa-80d344b13a1b",
   "metadata": {},
   "outputs": [
    {
     "data": {
      "text/html": [
       "<div>\n",
       "<style scoped>\n",
       "    .dataframe tbody tr th:only-of-type {\n",
       "        vertical-align: middle;\n",
       "    }\n",
       "\n",
       "    .dataframe tbody tr th {\n",
       "        vertical-align: top;\n",
       "    }\n",
       "\n",
       "    .dataframe thead th {\n",
       "        text-align: right;\n",
       "    }\n",
       "</style>\n",
       "<table border=\"1\" class=\"dataframe\">\n",
       "  <thead>\n",
       "    <tr style=\"text-align: right;\">\n",
       "      <th></th>\n",
       "      <th>0</th>\n",
       "    </tr>\n",
       "  </thead>\n",
       "  <tbody>\n",
       "  </tbody>\n",
       "</table>\n",
       "</div>"
      ],
      "text/plain": [
       "Empty DataFrame\n",
       "Columns: [0]\n",
       "Index: []"
      ]
     },
     "execution_count": 41,
     "metadata": {},
     "output_type": "execute_result"
    }
   ],
   "source": [
    "sca.loc[sca[0]=='ENSG00000111640.15']"
   ]
  },
  {
   "cell_type": "code",
   "execution_count": 282,
   "id": "aadfc6ff-7e71-4f9f-ba58-53474ed4eca6",
   "metadata": {},
   "outputs": [],
   "source": [
    "sca_df = pd.DataFrame(index=deseq.row)\n",
    "for t in tissue:\n",
    "    try:\n",
    "        sca_ = pd.read_csv(f'/data1/DYY/bambu/288_conver_scatt_gene_all_tis/{t}_sca.txt',header=None)#.rename(columns={0:file[:3]})\n",
    "    except:\n",
    "        continue\n",
    "    try:\n",
    "        sca_df.loc[sca_[0],t] = 1\n",
    "    except:\n",
    "        # sca_df = sca_.copy()\n",
    "        continue"
   ]
  },
  {
   "cell_type": "code",
   "execution_count": 284,
   "id": "9a291325-35b5-455c-a6a9-354358b9a89d",
   "metadata": {},
   "outputs": [],
   "source": [
    "sca_df = sca_df.loc[sca_df.count(axis=1)>0]"
   ]
  },
  {
   "cell_type": "code",
   "execution_count": 286,
   "id": "9430e51c-2ae0-40ed-9db4-f6c12ed34792",
   "metadata": {},
   "outputs": [
    {
     "data": {
      "text/html": [
       "<div>\n",
       "<style scoped>\n",
       "    .dataframe tbody tr th:only-of-type {\n",
       "        vertical-align: middle;\n",
       "    }\n",
       "\n",
       "    .dataframe tbody tr th {\n",
       "        vertical-align: top;\n",
       "    }\n",
       "\n",
       "    .dataframe thead th {\n",
       "        text-align: right;\n",
       "    }\n",
       "</style>\n",
       "<table border=\"1\" class=\"dataframe\">\n",
       "  <thead>\n",
       "    <tr style=\"text-align: right;\">\n",
       "      <th></th>\n",
       "      <th>BLA</th>\n",
       "      <th>BRE</th>\n",
       "      <th>COL</th>\n",
       "      <th>END</th>\n",
       "      <th>LIV</th>\n",
       "      <th>LUN</th>\n",
       "      <th>REC</th>\n",
       "      <th>KID</th>\n",
       "    </tr>\n",
       "    <tr>\n",
       "      <th>row</th>\n",
       "      <th></th>\n",
       "      <th></th>\n",
       "      <th></th>\n",
       "      <th></th>\n",
       "      <th></th>\n",
       "      <th></th>\n",
       "      <th></th>\n",
       "      <th></th>\n",
       "    </tr>\n",
       "  </thead>\n",
       "  <tbody>\n",
       "    <tr>\n",
       "      <th>ENSG00000099953.10</th>\n",
       "      <td>NaN</td>\n",
       "      <td>1.0</td>\n",
       "      <td>1.0</td>\n",
       "      <td>NaN</td>\n",
       "      <td>1.0</td>\n",
       "      <td>NaN</td>\n",
       "      <td>NaN</td>\n",
       "      <td>NaN</td>\n",
       "    </tr>\n",
       "    <tr>\n",
       "      <th>ENSG00000164283.13</th>\n",
       "      <td>NaN</td>\n",
       "      <td>1.0</td>\n",
       "      <td>NaN</td>\n",
       "      <td>1.0</td>\n",
       "      <td>NaN</td>\n",
       "      <td>NaN</td>\n",
       "      <td>NaN</td>\n",
       "      <td>1.0</td>\n",
       "    </tr>\n",
       "    <tr>\n",
       "      <th>ENSG00000167747.17</th>\n",
       "      <td>NaN</td>\n",
       "      <td>NaN</td>\n",
       "      <td>1.0</td>\n",
       "      <td>NaN</td>\n",
       "      <td>NaN</td>\n",
       "      <td>NaN</td>\n",
       "      <td>1.0</td>\n",
       "      <td>1.0</td>\n",
       "    </tr>\n",
       "  </tbody>\n",
       "</table>\n",
       "</div>"
      ],
      "text/plain": [
       "                    BLA  BRE  COL  END  LIV  LUN  REC  KID\n",
       "row                                                       \n",
       "ENSG00000099953.10  NaN  1.0  1.0  NaN  1.0  NaN  NaN  NaN\n",
       "ENSG00000164283.13  NaN  1.0  NaN  1.0  NaN  NaN  NaN  1.0\n",
       "ENSG00000167747.17  NaN  NaN  1.0  NaN  NaN  NaN  1.0  1.0"
      ]
     },
     "execution_count": 286,
     "metadata": {},
     "output_type": "execute_result"
    }
   ],
   "source": [
    "sca_df.loc[sca_df.count(axis=1)>2]"
   ]
  },
  {
   "cell_type": "code",
   "execution_count": 264,
   "id": "3cf7faf1-b9bf-4322-bbf3-7aa40427949b",
   "metadata": {},
   "outputs": [
    {
     "data": {
      "text/html": [
       "<div>\n",
       "<style scoped>\n",
       "    .dataframe tbody tr th:only-of-type {\n",
       "        vertical-align: middle;\n",
       "    }\n",
       "\n",
       "    .dataframe tbody tr th {\n",
       "        vertical-align: top;\n",
       "    }\n",
       "\n",
       "    .dataframe thead th {\n",
       "        text-align: right;\n",
       "    }\n",
       "</style>\n",
       "<table border=\"1\" class=\"dataframe\">\n",
       "  <thead>\n",
       "    <tr style=\"text-align: right;\">\n",
       "      <th></th>\n",
       "      <th>LIV</th>\n",
       "      <th>all</th>\n",
       "      <th>COL</th>\n",
       "      <th>REC</th>\n",
       "      <th>CER</th>\n",
       "      <th>LUN</th>\n",
       "      <th>BRE</th>\n",
       "      <th>END</th>\n",
       "      <th>KID</th>\n",
       "      <th>BLA</th>\n",
       "    </tr>\n",
       "    <tr>\n",
       "      <th>row</th>\n",
       "      <th></th>\n",
       "      <th></th>\n",
       "      <th></th>\n",
       "      <th></th>\n",
       "      <th></th>\n",
       "      <th></th>\n",
       "      <th></th>\n",
       "      <th></th>\n",
       "      <th></th>\n",
       "      <th></th>\n",
       "    </tr>\n",
       "  </thead>\n",
       "  <tbody>\n",
       "    <tr>\n",
       "      <th>ENSG00000107562.17</th>\n",
       "      <td>1.0</td>\n",
       "      <td>1.0</td>\n",
       "      <td>NaN</td>\n",
       "      <td>NaN</td>\n",
       "      <td>NaN</td>\n",
       "      <td>NaN</td>\n",
       "      <td>1.0</td>\n",
       "      <td>NaN</td>\n",
       "      <td>NaN</td>\n",
       "      <td>1.0</td>\n",
       "    </tr>\n",
       "    <tr>\n",
       "      <th>ENSG00000164283.13</th>\n",
       "      <td>NaN</td>\n",
       "      <td>1.0</td>\n",
       "      <td>NaN</td>\n",
       "      <td>NaN</td>\n",
       "      <td>NaN</td>\n",
       "      <td>NaN</td>\n",
       "      <td>1.0</td>\n",
       "      <td>1.0</td>\n",
       "      <td>1.0</td>\n",
       "      <td>NaN</td>\n",
       "    </tr>\n",
       "    <tr>\n",
       "      <th>ENSG00000165197.5</th>\n",
       "      <td>NaN</td>\n",
       "      <td>1.0</td>\n",
       "      <td>1.0</td>\n",
       "      <td>NaN</td>\n",
       "      <td>NaN</td>\n",
       "      <td>NaN</td>\n",
       "      <td>1.0</td>\n",
       "      <td>NaN</td>\n",
       "      <td>NaN</td>\n",
       "      <td>1.0</td>\n",
       "    </tr>\n",
       "    <tr>\n",
       "      <th>ENSG00000167747.17</th>\n",
       "      <td>NaN</td>\n",
       "      <td>1.0</td>\n",
       "      <td>1.0</td>\n",
       "      <td>1.0</td>\n",
       "      <td>NaN</td>\n",
       "      <td>NaN</td>\n",
       "      <td>NaN</td>\n",
       "      <td>NaN</td>\n",
       "      <td>1.0</td>\n",
       "      <td>NaN</td>\n",
       "    </tr>\n",
       "    <tr>\n",
       "      <th>ENSG00000189129.14</th>\n",
       "      <td>NaN</td>\n",
       "      <td>1.0</td>\n",
       "      <td>1.0</td>\n",
       "      <td>NaN</td>\n",
       "      <td>NaN</td>\n",
       "      <td>NaN</td>\n",
       "      <td>1.0</td>\n",
       "      <td>NaN</td>\n",
       "      <td>1.0</td>\n",
       "      <td>1.0</td>\n",
       "    </tr>\n",
       "    <tr>\n",
       "      <th>ENSG00000198417.7</th>\n",
       "      <td>1.0</td>\n",
       "      <td>1.0</td>\n",
       "      <td>1.0</td>\n",
       "      <td>NaN</td>\n",
       "      <td>NaN</td>\n",
       "      <td>NaN</td>\n",
       "      <td>NaN</td>\n",
       "      <td>NaN</td>\n",
       "      <td>1.0</td>\n",
       "      <td>NaN</td>\n",
       "    </tr>\n",
       "    <tr>\n",
       "      <th>ENSG00000205358.4</th>\n",
       "      <td>1.0</td>\n",
       "      <td>1.0</td>\n",
       "      <td>1.0</td>\n",
       "      <td>NaN</td>\n",
       "      <td>NaN</td>\n",
       "      <td>NaN</td>\n",
       "      <td>NaN</td>\n",
       "      <td>NaN</td>\n",
       "      <td>1.0</td>\n",
       "      <td>NaN</td>\n",
       "    </tr>\n",
       "  </tbody>\n",
       "</table>\n",
       "</div>"
      ],
      "text/plain": [
       "                    LIV  all  COL  REC  CER  LUN  BRE  END  KID  BLA\n",
       "row                                                                 \n",
       "ENSG00000107562.17  1.0  1.0  NaN  NaN  NaN  NaN  1.0  NaN  NaN  1.0\n",
       "ENSG00000164283.13  NaN  1.0  NaN  NaN  NaN  NaN  1.0  1.0  1.0  NaN\n",
       "ENSG00000165197.5   NaN  1.0  1.0  NaN  NaN  NaN  1.0  NaN  NaN  1.0\n",
       "ENSG00000167747.17  NaN  1.0  1.0  1.0  NaN  NaN  NaN  NaN  1.0  NaN\n",
       "ENSG00000189129.14  NaN  1.0  1.0  NaN  NaN  NaN  1.0  NaN  1.0  1.0\n",
       "ENSG00000198417.7   1.0  1.0  1.0  NaN  NaN  NaN  NaN  NaN  1.0  NaN\n",
       "ENSG00000205358.4   1.0  1.0  1.0  NaN  NaN  NaN  NaN  NaN  1.0  NaN"
      ]
     },
     "execution_count": 264,
     "metadata": {},
     "output_type": "execute_result"
    }
   ],
   "source": [
    "sca_df.loc[(sca_df['all']==1) & (sca_df.count(axis=1)>3)]"
   ]
  },
  {
   "cell_type": "code",
   "execution_count": 254,
   "id": "a8adf01c-933f-4c25-b1b7-abb4d2c59c9b",
   "metadata": {},
   "outputs": [
    {
     "data": {
      "text/plain": [
       "LIV    NaN\n",
       "all    1.0\n",
       "COL    NaN\n",
       "REC    NaN\n",
       "CER    NaN\n",
       "LUN    NaN\n",
       "BRE    NaN\n",
       "END    NaN\n",
       "KID    NaN\n",
       "BLA    NaN\n",
       "Name: ENSG00000126353.3, dtype: float64"
      ]
     },
     "execution_count": 254,
     "metadata": {},
     "output_type": "execute_result"
    }
   ],
   "source": [
    "sca_df.loc['ENSG00000126353.3']"
   ]
  },
  {
   "cell_type": "markdown",
   "id": "b262b828-049f-4ada-8242-dde8b96caa7c",
   "metadata": {},
   "source": [
    "# GO conver"
   ]
  },
  {
   "cell_type": "code",
   "execution_count": 165,
   "id": "71a2d0d5-1adc-40a1-9da6-97785875ac27",
   "metadata": {},
   "outputs": [],
   "source": [
    "tissue = group['Sample ID'].str[:3].drop_duplicates()"
   ]
  },
  {
   "cell_type": "code",
   "execution_count": 183,
   "id": "0f54f93f-bca7-4422-819b-2d74e402541d",
   "metadata": {},
   "outputs": [],
   "source": [
    "go_df = pd.DataFrame()\n",
    "for t in tissue:\n",
    "    try:\n",
    "        go = pd.read_csv(f'/home/bwu4/bambu_data_kegg_go/{t}_conv_go_bp.csv',sep='\\t')\n",
    "        go.loc[:,'tissue'] = t\n",
    "        \n",
    "        go_df = pd.concat([go_df,go])\n",
    "    except:\n",
    "        continue\n",
    "    # break"
   ]
  },
  {
   "cell_type": "code",
   "execution_count": 187,
   "id": "4b9a773b-304a-437b-a92f-6516c3582b21",
   "metadata": {},
   "outputs": [],
   "source": [
    "go_df.to_csv('/data1/DYY/bambu/288_con_sca_enrichment_plot_data/merge_go.csv',sep='\\t',index=False)"
   ]
  },
  {
   "cell_type": "code",
   "execution_count": 192,
   "id": "1ec646af-9971-4c5a-a357-884d25d66891",
   "metadata": {},
   "outputs": [],
   "source": [
    "past_group = pd.read_csv('/data1/DYY/data/288_group.csv',sep='\\t')\n",
    "past_group['tissue'] = past_group['Sample ID'].str[:3]"
   ]
  },
  {
   "cell_type": "code",
   "execution_count": 198,
   "id": "4ea3599c-8008-4ad0-91b9-107d9c518dad",
   "metadata": {},
   "outputs": [],
   "source": [
    "group['tissue'] = group['Sample ID'].str[:3]"
   ]
  },
  {
   "cell_type": "code",
   "execution_count": 206,
   "id": "350ed160-8d96-4447-8b71-20b2a435a580",
   "metadata": {},
   "outputs": [
    {
     "data": {
      "text/html": [
       "<div>\n",
       "<style scoped>\n",
       "    .dataframe tbody tr th:only-of-type {\n",
       "        vertical-align: middle;\n",
       "    }\n",
       "\n",
       "    .dataframe tbody tr th {\n",
       "        vertical-align: top;\n",
       "    }\n",
       "\n",
       "    .dataframe thead th {\n",
       "        text-align: right;\n",
       "    }\n",
       "</style>\n",
       "<table border=\"1\" class=\"dataframe\">\n",
       "  <thead>\n",
       "    <tr style=\"text-align: right;\">\n",
       "      <th></th>\n",
       "      <th>past</th>\n",
       "      <th>name</th>\n",
       "    </tr>\n",
       "    <tr>\n",
       "      <th>tissue</th>\n",
       "      <th></th>\n",
       "      <th></th>\n",
       "    </tr>\n",
       "  </thead>\n",
       "  <tbody>\n",
       "    <tr>\n",
       "      <th>BLA</th>\n",
       "      <td>38</td>\n",
       "      <td>30</td>\n",
       "    </tr>\n",
       "    <tr>\n",
       "      <th>BRE</th>\n",
       "      <td>34</td>\n",
       "      <td>32</td>\n",
       "    </tr>\n",
       "    <tr>\n",
       "      <th>CER</th>\n",
       "      <td>20</td>\n",
       "      <td>32</td>\n",
       "    </tr>\n",
       "    <tr>\n",
       "      <th>COL</th>\n",
       "      <td>36</td>\n",
       "      <td>32</td>\n",
       "    </tr>\n",
       "    <tr>\n",
       "      <th>END</th>\n",
       "      <td>14</td>\n",
       "      <td>12</td>\n",
       "    </tr>\n",
       "    <tr>\n",
       "      <th>KID</th>\n",
       "      <td>36</td>\n",
       "      <td>40</td>\n",
       "    </tr>\n",
       "    <tr>\n",
       "      <th>LIV</th>\n",
       "      <td>38</td>\n",
       "      <td>34</td>\n",
       "    </tr>\n",
       "    <tr>\n",
       "      <th>LUN</th>\n",
       "      <td>34</td>\n",
       "      <td>38</td>\n",
       "    </tr>\n",
       "    <tr>\n",
       "      <th>REC</th>\n",
       "      <td>14</td>\n",
       "      <td>12</td>\n",
       "    </tr>\n",
       "    <tr>\n",
       "      <th>STO</th>\n",
       "      <td>24</td>\n",
       "      <td>26</td>\n",
       "    </tr>\n",
       "  </tbody>\n",
       "</table>\n",
       "</div>"
      ],
      "text/plain": [
       "        past  name\n",
       "tissue            \n",
       "BLA       38    30\n",
       "BRE       34    32\n",
       "CER       20    32\n",
       "COL       36    32\n",
       "END       14    12\n",
       "KID       36    40\n",
       "LIV       38    34\n",
       "LUN       34    38\n",
       "REC       14    12\n",
       "STO       24    26"
      ]
     },
     "execution_count": 206,
     "metadata": {},
     "output_type": "execute_result"
    }
   ],
   "source": [
    "pd.concat([past_group.groupby('tissue').count()[['name']].rename(columns={'name':'past'}),group.groupby('tissue').count()[['name']]],axis=1)"
   ]
  },
  {
   "cell_type": "code",
   "execution_count": 202,
   "id": "a81c5084-6ef1-4b01-8f37-d28188cabef5",
   "metadata": {},
   "outputs": [
    {
     "data": {
      "text/html": [
       "<div>\n",
       "<style scoped>\n",
       "    .dataframe tbody tr th:only-of-type {\n",
       "        vertical-align: middle;\n",
       "    }\n",
       "\n",
       "    .dataframe tbody tr th {\n",
       "        vertical-align: top;\n",
       "    }\n",
       "\n",
       "    .dataframe thead th {\n",
       "        text-align: right;\n",
       "    }\n",
       "</style>\n",
       "<table border=\"1\" class=\"dataframe\">\n",
       "  <thead>\n",
       "    <tr style=\"text-align: right;\">\n",
       "      <th></th>\n",
       "      <th>name</th>\n",
       "    </tr>\n",
       "    <tr>\n",
       "      <th>tissue</th>\n",
       "      <th></th>\n",
       "    </tr>\n",
       "  </thead>\n",
       "  <tbody>\n",
       "    <tr>\n",
       "      <th>BLA</th>\n",
       "      <td>30</td>\n",
       "    </tr>\n",
       "    <tr>\n",
       "      <th>BRE</th>\n",
       "      <td>32</td>\n",
       "    </tr>\n",
       "    <tr>\n",
       "      <th>CER</th>\n",
       "      <td>32</td>\n",
       "    </tr>\n",
       "    <tr>\n",
       "      <th>COL</th>\n",
       "      <td>32</td>\n",
       "    </tr>\n",
       "    <tr>\n",
       "      <th>END</th>\n",
       "      <td>12</td>\n",
       "    </tr>\n",
       "    <tr>\n",
       "      <th>KID</th>\n",
       "      <td>40</td>\n",
       "    </tr>\n",
       "    <tr>\n",
       "      <th>LIV</th>\n",
       "      <td>34</td>\n",
       "    </tr>\n",
       "    <tr>\n",
       "      <th>LUN</th>\n",
       "      <td>38</td>\n",
       "    </tr>\n",
       "    <tr>\n",
       "      <th>REC</th>\n",
       "      <td>12</td>\n",
       "    </tr>\n",
       "    <tr>\n",
       "      <th>STO</th>\n",
       "      <td>26</td>\n",
       "    </tr>\n",
       "  </tbody>\n",
       "</table>\n",
       "</div>"
      ],
      "text/plain": [
       "        name\n",
       "tissue      \n",
       "BLA       30\n",
       "BRE       32\n",
       "CER       32\n",
       "COL       32\n",
       "END       12\n",
       "KID       40\n",
       "LIV       34\n",
       "LUN       38\n",
       "REC       12\n",
       "STO       26"
      ]
     },
     "execution_count": 202,
     "metadata": {},
     "output_type": "execute_result"
    }
   ],
   "source": []
  },
  {
   "cell_type": "code",
   "execution_count": null,
   "id": "d7b4dc92-d434-4142-8a8a-6844d3268d36",
   "metadata": {},
   "outputs": [],
   "source": []
  }
 ],
 "metadata": {
  "kernelspec": {
   "display_name": "PY311",
   "language": "python",
   "name": "py311"
  },
  "language_info": {
   "codemirror_mode": {
    "name": "ipython",
    "version": 3
   },
   "file_extension": ".py",
   "mimetype": "text/x-python",
   "name": "python",
   "nbconvert_exporter": "python",
   "pygments_lexer": "ipython3",
   "version": "3.11.0"
  }
 },
 "nbformat": 4,
 "nbformat_minor": 5
}
